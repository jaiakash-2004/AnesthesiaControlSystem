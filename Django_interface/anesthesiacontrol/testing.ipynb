{
 "cells": [
  {
   "cell_type": "code",
   "execution_count": 3,
   "metadata": {},
   "outputs": [
    {
     "name": "stdout",
     "output_type": "stream",
     "text": [
      "['G:/mini project/csv_files/csv_files\\\\uq_vsd_case01_trenddata.csv', 'G:/mini project/csv_files/csv_files\\\\uq_vsd_case02_trenddata.csv', 'G:/mini project/csv_files/csv_files\\\\uq_vsd_case03_trenddata.csv', 'G:/mini project/csv_files/csv_files\\\\uq_vsd_case04_trenddata.csv', 'G:/mini project/csv_files/csv_files\\\\uq_vsd_case05_trenddata.csv', 'G:/mini project/csv_files/csv_files\\\\uq_vsd_case06_trenddata.csv', 'G:/mini project/csv_files/csv_files\\\\uq_vsd_case07_trenddata.csv', 'G:/mini project/csv_files/csv_files\\\\uq_vsd_case08_trenddata.csv', 'G:/mini project/csv_files/csv_files\\\\uq_vsd_case09_trenddata.csv', 'G:/mini project/csv_files/csv_files\\\\uq_vsd_case10_trenddata.csv', 'G:/mini project/csv_files/csv_files\\\\uq_vsd_case11_trenddata.csv', 'G:/mini project/csv_files/csv_files\\\\uq_vsd_case12_trenddata.csv', 'G:/mini project/csv_files/csv_files\\\\uq_vsd_case13_trenddata.csv', 'G:/mini project/csv_files/csv_files\\\\uq_vsd_case14_trenddata.csv', 'G:/mini project/csv_files/csv_files\\\\uq_vsd_case15_trenddata.csv', 'G:/mini project/csv_files/csv_files\\\\uq_vsd_case16_trenddata.csv', 'G:/mini project/csv_files/csv_files\\\\uq_vsd_case17_trenddata.csv', 'G:/mini project/csv_files/csv_files\\\\uq_vsd_case18_trenddata.csv', 'G:/mini project/csv_files/csv_files\\\\uq_vsd_case19_trenddata.csv', 'G:/mini project/csv_files/csv_files\\\\uq_vsd_case20_trenddata.csv', 'G:/mini project/csv_files/csv_files\\\\uq_vsd_case21_trenddata.csv', 'G:/mini project/csv_files/csv_files\\\\uq_vsd_case22_trenddata.csv', 'G:/mini project/csv_files/csv_files\\\\uq_vsd_case23_trenddata.csv', 'G:/mini project/csv_files/csv_files\\\\uq_vsd_case24_trenddata.csv', 'G:/mini project/csv_files/csv_files\\\\uq_vsd_case25_trenddata.csv', 'G:/mini project/csv_files/csv_files\\\\uq_vsd_case26_trenddata.csv', 'G:/mini project/csv_files/csv_files\\\\uq_vsd_case27_trenddata.csv', 'G:/mini project/csv_files/csv_files\\\\uq_vsd_case28_trenddata.csv', 'G:/mini project/csv_files/csv_files\\\\uq_vsd_case29_trenddata.csv', 'G:/mini project/csv_files/csv_files\\\\uq_vsd_case30_trenddata.csv', 'G:/mini project/csv_files/csv_files\\\\uq_vsd_case31_trenddata.csv', 'G:/mini project/csv_files/csv_files\\\\uq_vsd_case32_trenddata.csv']\n"
     ]
    },
    {
     "name": "stderr",
     "output_type": "stream",
     "text": [
      "C:\\Users\\unkow\\AppData\\Local\\Temp\\ipykernel_1072\\1348399002.py:24: DtypeWarning: Columns (58,59) have mixed types. Specify dtype option on import or set low_memory=False.\n",
      "  df = pd.read_csv(file)\n"
     ]
    },
    {
     "name": "stdout",
     "output_type": "stream",
     "text": [
      "Skipping G:/mini project/csv_files/csv_files\\uq_vsd_case14_trenddata.csv due to empty data after dropping NaNs.\n",
      "Skipping G:/mini project/csv_files/csv_files\\uq_vsd_case15_trenddata.csv due to empty data after dropping NaNs.\n",
      "Skipping G:/mini project/csv_files/csv_files\\uq_vsd_case17_trenddata.csv due to empty data after dropping NaNs.\n",
      "Skipping G:/mini project/csv_files/csv_files\\uq_vsd_case18_trenddata.csv due to empty data after dropping NaNs.\n",
      "Skipping G:/mini project/csv_files/csv_files\\uq_vsd_case19_trenddata.csv due to empty data after dropping NaNs.\n",
      "Skipping G:/mini project/csv_files/csv_files\\uq_vsd_case22_trenddata.csv due to empty data after dropping NaNs.\n",
      "Skipping G:/mini project/csv_files/csv_files\\uq_vsd_case25_trenddata.csv due to empty data after dropping NaNs.\n",
      "Skipping G:/mini project/csv_files/csv_files\\uq_vsd_case27_trenddata.csv due to empty data after dropping NaNs.\n",
      "Skipping G:/mini project/csv_files/csv_files\\uq_vsd_case28_trenddata.csv due to empty data after dropping NaNs.\n",
      "Skipping G:/mini project/csv_files/csv_files\\uq_vsd_case29_trenddata.csv due to empty data after dropping NaNs.\n",
      "Accuracy: 0.9925\n",
      "Classification Report:\n",
      "                  precision    recall  f1-score   support\n",
      "\n",
      "is_SpO2 LOW PERF       0.89      0.50      0.64        34\n",
      "    is_SpO2 LOW        0.90      0.92      0.91        59\n",
      "    is_etCO2 LOW       0.93      0.85      0.89       764\n",
      "is_AGM NO BREATH       0.75      0.75      0.75         8\n",
      "\n",
      "       micro avg       0.93      0.84      0.88       865\n",
      "       macro avg       0.87      0.75      0.80       865\n",
      "    weighted avg       0.93      0.84      0.88       865\n",
      "     samples avg       0.03      0.03      0.03       865\n",
      "\n"
     ]
    },
    {
     "name": "stderr",
     "output_type": "stream",
     "text": [
      "C:\\Users\\unkow\\AppData\\Local\\Packages\\PythonSoftwareFoundation.Python.3.10_qbz5n2kfra8p0\\LocalCache\\local-packages\\Python310\\site-packages\\sklearn\\metrics\\_classification.py:1565: UndefinedMetricWarning: Precision is ill-defined and being set to 0.0 in samples with no predicted labels. Use `zero_division` parameter to control this behavior.\n",
      "  _warn_prf(average, modifier, f\"{metric.capitalize()} is\", len(result))\n",
      "C:\\Users\\unkow\\AppData\\Local\\Packages\\PythonSoftwareFoundation.Python.3.10_qbz5n2kfra8p0\\LocalCache\\local-packages\\Python310\\site-packages\\sklearn\\metrics\\_classification.py:1565: UndefinedMetricWarning: Recall is ill-defined and being set to 0.0 in samples with no true labels. Use `zero_division` parameter to control this behavior.\n",
      "  _warn_prf(average, modifier, f\"{metric.capitalize()} is\", len(result))\n",
      "C:\\Users\\unkow\\AppData\\Local\\Packages\\PythonSoftwareFoundation.Python.3.10_qbz5n2kfra8p0\\LocalCache\\local-packages\\Python310\\site-packages\\sklearn\\metrics\\_classification.py:1565: UndefinedMetricWarning: F-score is ill-defined and being set to 0.0 in samples with no true nor predicted labels. Use `zero_division` parameter to control this behavior.\n",
      "  _warn_prf(average, modifier, f\"{metric.capitalize()} is\", len(result))\n"
     ]
    },
    {
     "name": "stdout",
     "output_type": "stream",
     "text": [
      "Model and scaler saved successfully!\n"
     ]
    }
   ],
   "source": [
    "import pandas as pd\n",
    "import glob\n",
    "import numpy as np\n",
    "import pickle\n",
    "from sklearn.preprocessing import MinMaxScaler\n",
    "from sklearn.model_selection import train_test_split\n",
    "from sklearn.ensemble import RandomForestClassifier\n",
    "from sklearn.metrics import accuracy_score, classification_report\n",
    "\n",
    "# Define the folder path containing the CSV files\n",
    "folder_path = \"G:/mini project/csv_files/csv_files/\"\n",
    "\n",
    "# Use glob to find all CSV files in the folder\n",
    "csv_files = glob.glob(folder_path + \"*.csv\")\n",
    "print(csv_files)\n",
    "\n",
    "# Initialize an empty DataFrame to append data\n",
    "df_combined = pd.DataFrame()\n",
    "l = ['SpO2   LOW PERF   ','** SpO2   LOW     ', '** etCO2  LOW     ','AGM NO BREATH     ']\n",
    "l2 = ['SpO2 LOW PERF','SpO2 LOW ', 'etCO2 LOW','AGM NO BREATH']\n",
    "\n",
    "# Iterate through each CSV file and append to the combined DataFrame\n",
    "for file in csv_files:\n",
    "    df = pd.read_csv(file)\n",
    "    \n",
    "    df[[\"RelativeTimeMilliseconds\",\"HR\",\"SpO2\",\"etCO2\",\"awRR\",\"inSEV\",\"inO2\",\"Alarms...\",\"desc1\",\"desc2\",\"desc3\",\"desc4\",\"desc5\",\"desc6\",\"desc7\"]]\n",
    "    df.head()\n",
    "    \n",
    "    for i in range(4):\n",
    "        df[str(f\"is_{l2[i]}\")] = np.where(\n",
    "            (df[\"Alarms...\"] == l[i]) | \n",
    "            (df[\"desc1\"] == l[i]) | \n",
    "            (df[\"desc2\"] == l[i]) | \n",
    "            (df[\"desc4\"] == l[i]) | \n",
    "            (df[\"desc5\"] == l[i]) | \n",
    "            (df[\"desc6\"] == l[i]) | \n",
    "            (df[\"desc7\"] == l[i]) | \n",
    "            (df[\"desc3\"] == l[i]), \n",
    "            1, \n",
    "            0\n",
    "        )\n",
    "    \n",
    "    x = df[[\"RelativeTimeMilliseconds\",\"HR\",\"SpO2\",\"etCO2\",\"awRR\",\"is_SpO2 LOW PERF\",\"is_SpO2 LOW \",\"is_etCO2 LOW\",\"is_AGM NO BREATH\",\"inSEV\",\"inO2\"]]\n",
    "    x = x.dropna()\n",
    "    df = x.sort_values(by=\"RelativeTimeMilliseconds\")\n",
    "    df.set_index(\"RelativeTimeMilliseconds\", inplace=True)\n",
    "\n",
    "    if x.empty:\n",
    "        print(f\"Skipping {file} due to empty data after dropping NaNs.\")\n",
    "        continue\n",
    "\n",
    "    df_combined = pd.concat([df_combined, df], ignore_index=True)\n",
    "\n",
    "# Now df_combined contains all the rows from the CSV files\n",
    "df_combined.head()\n",
    "\n",
    "# Define feature columns\n",
    "feature_columns = [\"HR\", \"SpO2\", \"etCO2\", \"awRR\"]\n",
    "label_columns = [f\"is_{label}\" for label in l2]\n",
    "\n",
    "# Extract features (X) and labels (Y)\n",
    "X = df_combined[feature_columns].values\n",
    "Y = df_combined[label_columns].values\n",
    "\n",
    "# Normalize features\n",
    "scaler_X = MinMaxScaler()\n",
    "X = scaler_X.fit_transform(X)\n",
    "\n",
    "# Split into training and testing sets\n",
    "X_train, X_test, Y_train, Y_test = train_test_split(X, Y, test_size=0.2, random_state=42)\n",
    "\n",
    "# Train a Random Forest Classifier for multi-label classification\n",
    "clf = RandomForestClassifier(n_estimators=100, random_state=42)\n",
    "clf.fit(X_train, Y_train)\n",
    "\n",
    "# Predict on test set\n",
    "Y_pred = clf.predict(X_test)\n",
    "\n",
    "# Evaluate the model\n",
    "accuracy = accuracy_score(Y_test, Y_pred.round())\n",
    "print(f\"Accuracy: {accuracy:.4f}\")\n",
    "print(\"Classification Report:\")\n",
    "print(classification_report(Y_test, Y_pred.round(), target_names=label_columns))\n",
    "\n",
    "# Save the model and scaler\n",
    "with open(\"multiclass_classifier.pkl\", \"wb\") as model_file:\n",
    "    pickle.dump(clf, model_file)\n",
    "\n",
    "with open(\"scaler_X.pkl\", \"wb\") as scaler_file:\n",
    "    pickle.dump(scaler_X, scaler_file)\n",
    "\n",
    "print(\"Model and scaler saved successfully!\")\n"
   ]
  }
 ],
 "metadata": {
  "kernelspec": {
   "display_name": "Python 3",
   "language": "python",
   "name": "python3"
  },
  "language_info": {
   "codemirror_mode": {
    "name": "ipython",
    "version": 3
   },
   "file_extension": ".py",
   "mimetype": "text/x-python",
   "name": "python",
   "nbconvert_exporter": "python",
   "pygments_lexer": "ipython3",
   "version": "3.10.11"
  }
 },
 "nbformat": 4,
 "nbformat_minor": 2
}
