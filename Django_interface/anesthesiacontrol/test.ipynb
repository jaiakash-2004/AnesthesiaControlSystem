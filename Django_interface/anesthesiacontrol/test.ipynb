{
 "cells": [
  {
   "cell_type": "code",
   "execution_count": 3,
   "metadata": {},
   "outputs": [
    {
     "name": "stdout",
     "output_type": "stream",
     "text": [
      "\u001b[1m1/1\u001b[0m \u001b[32m━━━━━━━━━━━━━━━━━━━━\u001b[0m\u001b[37m\u001b[0m \u001b[1m0s\u001b[0m 445ms/step\n",
      "Predicted Alarms: [0 0 0 0]\n",
      "RNN Predictions (inSEV, inO2): [0.52044034 0.28123534]\n"
     ]
    }
   ],
   "source": [
    "import numpy as np\n",
    "import joblib\n",
    "from tensorflow.keras.models import load_model\n",
    "\n",
    "# Load the trained RandomForest model\n",
    "model_rf = joblib.load(\"G:/mini project/multiclass_classifier.pkl\")\n",
    "\n",
    "# Load the trained RNN model\n",
    "model_rnn = load_model(\"G:/mini project/best_rnn_model.keras\")\n",
    "\n",
    "# Function to predict alarms using RF model\n",
    "def predict_alarms(hr, spo2, etco2, awrr):\n",
    "    # Prepare input for RF model\n",
    "    input_data = np.array([[hr, spo2, etco2, awrr]])\n",
    "    \n",
    "    # Predict alarms\n",
    "    alarms = model_rf.predict(input_data)\n",
    "    return alarms[0]  # Return the binary predictions\n",
    "\n",
    "# Function to prepare input for RNN\n",
    "def prepare_rnn_input(hr_values, spo2_values, etco2_values, awrr_values, alarms):\n",
    "    # The error occurs because 'alarms' is a single prediction (shape of 4)\n",
    "    # while the other inputs are arrays of length 20\n",
    "    \n",
    "    # Create an array of alarms for each time step\n",
    "    # We'll use the same alarm values for all time steps\n",
    "    alarm_array = np.tile(alarms, (len(hr_values), 1))\n",
    "    \n",
    "    # Combine sensor data and alarms\n",
    "    combined_data = np.column_stack((hr_values, spo2_values, etco2_values, awrr_values, alarm_array))\n",
    "    \n",
    "    # Reshape for RNN input (n_samples, time_steps, n_features)\n",
    "    rnn_input = combined_data.reshape(1, combined_data.shape[0], combined_data.shape[1])\n",
    "    return rnn_input\n",
    "\n",
    "# Function to predict with RNN\n",
    "def predict_rnn(rnn_input):\n",
    "    # Predict with RNN\n",
    "    predictions = model_rnn.predict(rnn_input)\n",
    "    return predictions[0]  # Return the predicted inSEV and inO2\n",
    "\n",
    "# Function to predict alarms and RNN output\n",
    "def predict_with_rf_and_rnn(hr_values, spo2_values, etco2_values, awrr_values):\n",
    "    # Predict alarms with RF model\n",
    "    alarms = predict_alarms(hr_values[-1], spo2_values[-1], etco2_values[-1], awrr_values[-1])\n",
    "    \n",
    "    # Prepare input for RNN\n",
    "    rnn_input = prepare_rnn_input(hr_values[-20:], spo2_values[-20:], etco2_values[-20:], awrr_values[-20:], alarms)\n",
    "    \n",
    "    # Predict with RNN\n",
    "    rnn_predictions = predict_rnn(rnn_input)\n",
    "    \n",
    "    return alarms, rnn_predictions\n",
    "\n",
    "# Example sensor data (replace with actual data)\n",
    "hr_values = [80, 82, 81, 79, 78, 77, 76, 75, 74, 73, 72, 71, 70, 69, 68, 67, 66, 65, 64, 63]\n",
    "spo2_values = [98, 97, 96, 95, 94, 93, 92, 91, 90, 89, 88, 87, 86, 85, 84, 83, 82, 81, 80, 79]\n",
    "etco2_values = [40, 39, 38, 37, 36, 35, 34, 33, 32, 31, 30, 29, 28, 27, 26, 25, 24, 23, 22, 21]\n",
    "awrr_values = [16, 15, 14, 13, 12, 11, 10, 9, 8, 7, 6, 5, 4, 3, 2, 1, 0, 1, 2, 3]\n",
    "\n",
    "# Predict alarms and RNN output\n",
    "alarms, rnn_predictions = predict_with_rf_and_rnn(hr_values, spo2_values, etco2_values, awrr_values)\n",
    "\n",
    "# Print results\n",
    "print(\"Predicted Alarms:\", alarms)\n",
    "print(\"RNN Predictions (inSEV, inO2):\", rnn_predictions)"
   ]
  }
 ],
 "metadata": {
  "kernelspec": {
   "display_name": "Python 3",
   "language": "python",
   "name": "python3"
  },
  "language_info": {
   "codemirror_mode": {
    "name": "ipython",
    "version": 3
   },
   "file_extension": ".py",
   "mimetype": "text/x-python",
   "name": "python",
   "nbconvert_exporter": "python",
   "pygments_lexer": "ipython3",
   "version": "3.10.11"
  }
 },
 "nbformat": 4,
 "nbformat_minor": 2
}
