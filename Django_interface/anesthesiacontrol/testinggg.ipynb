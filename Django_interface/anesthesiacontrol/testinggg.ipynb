{
 "cells": [
  {
   "cell_type": "code",
   "execution_count": null,
   "metadata": {},
   "outputs": [],
   "source": [
    "import pandas as pd\n",
    "\n",
    "df = pd.read_csv(\"G:/mini project/csv_files/csv_files/uq_vsd_case01_trenddata.csv\")  # Update with the correct path\n",
    "print(df['etCO2'].describe())\n"
   ]
  }
 ],
 "metadata": {
  "language_info": {
   "name": "python"
  }
 },
 "nbformat": 4,
 "nbformat_minor": 2
}
