{
 "cells": [
  {
   "cell_type": "code",
   "execution_count": 4,
   "metadata": {},
   "outputs": [
    {
     "ename": "ModuleNotFoundError",
     "evalue": "No module named 'tensorflow.python'",
     "output_type": "error",
     "traceback": [
      "\u001b[1;31m---------------------------------------------------------------------------\u001b[0m",
      "\u001b[1;31mModuleNotFoundError\u001b[0m                       Traceback (most recent call last)",
      "Cell \u001b[1;32mIn[4], line 5\u001b[0m\n\u001b[0;32m      3\u001b[0m \u001b[38;5;28;01mimport\u001b[39;00m\u001b[38;5;250m \u001b[39m\u001b[38;5;21;01mtime\u001b[39;00m\n\u001b[0;32m      4\u001b[0m \u001b[38;5;28;01mimport\u001b[39;00m\u001b[38;5;250m \u001b[39m\u001b[38;5;21;01mmatplotlib\u001b[39;00m\u001b[38;5;21;01m.\u001b[39;00m\u001b[38;5;21;01mpyplot\u001b[39;00m\u001b[38;5;250m \u001b[39m\u001b[38;5;28;01mas\u001b[39;00m\u001b[38;5;250m \u001b[39m\u001b[38;5;21;01mplt\u001b[39;00m\n\u001b[1;32m----> 5\u001b[0m \u001b[38;5;28;01mfrom\u001b[39;00m\u001b[38;5;250m \u001b[39m\u001b[38;5;21;01mtensorflow\u001b[39;00m\u001b[38;5;21;01m.\u001b[39;00m\u001b[38;5;21;01mkeras\u001b[39;00m\u001b[38;5;21;01m.\u001b[39;00m\u001b[38;5;21;01mmodels\u001b[39;00m\u001b[38;5;250m \u001b[39m\u001b[38;5;28;01mimport\u001b[39;00m load_model\n\u001b[0;32m      6\u001b[0m \u001b[38;5;28;01mfrom\u001b[39;00m\u001b[38;5;250m \u001b[39m\u001b[38;5;21;01msklearn\u001b[39;00m\u001b[38;5;21;01m.\u001b[39;00m\u001b[38;5;21;01mpreprocessing\u001b[39;00m\u001b[38;5;250m \u001b[39m\u001b[38;5;28;01mimport\u001b[39;00m MinMaxScaler\n\u001b[0;32m      8\u001b[0m \u001b[38;5;66;03m# Simulated function for real-time data acquisition (replace with actual sensor data)\u001b[39;00m\n",
      "File \u001b[1;32m~\\AppData\\Local\\Packages\\PythonSoftwareFoundation.Python.3.10_qbz5n2kfra8p0\\LocalCache\\local-packages\\Python310\\site-packages\\tensorflow\\__init__.py:40\u001b[0m\n\u001b[0;32m     37\u001b[0m _os\u001b[38;5;241m.\u001b[39menviron\u001b[38;5;241m.\u001b[39msetdefault(\u001b[38;5;124m\"\u001b[39m\u001b[38;5;124mENABLE_RUNTIME_UPTIME_TELEMETRY\u001b[39m\u001b[38;5;124m\"\u001b[39m, \u001b[38;5;124m\"\u001b[39m\u001b[38;5;124m1\u001b[39m\u001b[38;5;124m\"\u001b[39m)\n\u001b[0;32m     39\u001b[0m \u001b[38;5;66;03m# Do not remove this line; See https://github.com/tensorflow/tensorflow/issues/42596\u001b[39;00m\n\u001b[1;32m---> 40\u001b[0m \u001b[38;5;28;01mfrom\u001b[39;00m\u001b[38;5;250m \u001b[39m\u001b[38;5;21;01mtensorflow\u001b[39;00m\u001b[38;5;21;01m.\u001b[39;00m\u001b[38;5;21;01mpython\u001b[39;00m\u001b[38;5;250m \u001b[39m\u001b[38;5;28;01mimport\u001b[39;00m pywrap_tensorflow \u001b[38;5;28;01mas\u001b[39;00m _pywrap_tensorflow  \u001b[38;5;66;03m# pylint: disable=unused-import\u001b[39;00m\n\u001b[0;32m     41\u001b[0m \u001b[38;5;28;01mfrom\u001b[39;00m\u001b[38;5;250m \u001b[39m\u001b[38;5;21;01mtensorflow\u001b[39;00m\u001b[38;5;21;01m.\u001b[39;00m\u001b[38;5;21;01mpython\u001b[39;00m\u001b[38;5;21;01m.\u001b[39;00m\u001b[38;5;21;01mtools\u001b[39;00m\u001b[38;5;250m \u001b[39m\u001b[38;5;28;01mimport\u001b[39;00m module_util \u001b[38;5;28;01mas\u001b[39;00m _module_util\n\u001b[0;32m     42\u001b[0m \u001b[38;5;28;01mfrom\u001b[39;00m\u001b[38;5;250m \u001b[39m\u001b[38;5;21;01mtensorflow\u001b[39;00m\u001b[38;5;21;01m.\u001b[39;00m\u001b[38;5;21;01mpython\u001b[39;00m\u001b[38;5;21;01m.\u001b[39;00m\u001b[38;5;21;01mutil\u001b[39;00m\u001b[38;5;21;01m.\u001b[39;00m\u001b[38;5;21;01mlazy_loader\u001b[39;00m\u001b[38;5;250m \u001b[39m\u001b[38;5;28;01mimport\u001b[39;00m KerasLazyLoader \u001b[38;5;28;01mas\u001b[39;00m _KerasLazyLoader\n",
      "\u001b[1;31mModuleNotFoundError\u001b[0m: No module named 'tensorflow.python'"
     ]
    }
   ],
   "source": [
    "\n",
    "import numpy as np\n",
    "import pandas as pd\n",
    "import time\n",
    "import matplotlib.pyplot as plt\n",
    "from tensorflow.keras.models import load_model\n",
    "from sklearn.preprocessing import MinMaxScaler\n",
    "\n",
    "# Simulated function for real-time data acquisition (replace with actual sensor data)\n",
    "def get_real_time_data():\n",
    "    return {\n",
    "        'HR': np.random.randint(60, 100),   # Heart Rate\n",
    "        'SpO2': np.random.randint(90, 100), # Oxygen Saturation\n",
    "        'etCO2': np.random.randint(30, 45), # End-Tidal CO2\n",
    "        'awRR': np.random.randint(12, 20),  # Airway Respiratory Rate\n",
    "    }\n",
    "\n",
    "# Load your pre-trained RNN model and scaler (ensure model and scaler are already trained and saved)\n",
    "model = load_model('best_rnn_model.keras')  # Replace with your model file path\n",
    "scaler_X = MinMaxScaler()  # Assuming scaler is defined as MinMaxScaler for scaling the data\n",
    "\n",
    "# Set time steps (based on your data and model setup)\n",
    "time_steps = 1  # Adjust based on how many previous time steps you want for prediction\n",
    "\n",
    "# Initialize a plot for real-time visualization\n",
    "plt.ion()  # Interactive mode\n",
    "fig, ax = plt.subplots()\n",
    "x_vals = []  # Time values (for X-axis)\n",
    "y_vals = []  # Predicted values (for Y-axis)\n",
    "\n",
    "# Real-time data collection and prediction loop\n",
    "while True:\n",
    "    # Simulate acquiring real-time data\n",
    "    data = get_real_time_data()\n",
    "    df = pd.DataFrame([data])  # Convert data to DataFrame\n",
    "    \n",
    "    # Preprocess the data (apply scaling and reshape for RNN input)\n",
    "    df_scaled = scaler_X.fit_transform(df[['HR', 'SpO2', 'etCO2', 'awRR']])\n",
    "    X_input = df_scaled.reshape(1, time_steps, 4)  # Reshape data for RNN input (1 sample, time_steps, 4 features)\n",
    "\n",
    "    # Predict using the trained model\n",
    "    prediction = model.predict(X_input)\n",
    "\n",
    "    # Print the predicted values\n",
    "    print(f\"Predicted inSEV: {prediction[0][0]}\")\n",
    "    print(f\"Predicted inO2: {prediction[0][1]}\")\n",
    "    \n",
    "    # Update real-time plot with new data\n",
    "    x_vals.append(time.time())  # Use current time as the x-axis value\n",
    "    y_vals.append(prediction[0][0])  # Use predicted inSEV (you can update this for other predictions)\n",
    "\n",
    "    # Clear previous plot and update with new data\n",
    "    ax.clear()\n",
    "    ax.plot(x_vals, y_vals, label='Predicted inSEV')\n",
    "    ax.set_xlabel('Time')\n",
    "    ax.set_ylabel('Predicted inSEV')\n",
    "    ax.legend()\n",
    "    \n",
    "    # Display updated plot\n",
    "    plt.draw()\n",
    "    plt.pause(0.1)  # Pause for 100 ms for real-time updating\n",
    "    \n",
    "    # Sleep to simulate real-time data collection delay\n",
    "    time.sleep(1)  # Adjust time delay to match real-time data acquisition rate\n",
    "\n",
    "    # Break condition (you can add conditions to stop the loop)\n",
    "    if len(x_vals) > 100:  # Example: Stop after 100 data points\n",
    "        break\n",
    "\n",
    "# After the loop, you can add additional logic to stop and save results if needed\n"
   ]
  }
 ],
 "metadata": {
  "kernelspec": {
   "display_name": "Python 3",
   "language": "python",
   "name": "python3"
  },
  "language_info": {
   "codemirror_mode": {
    "name": "ipython",
    "version": 3
   },
   "file_extension": ".py",
   "mimetype": "text/x-python",
   "name": "python",
   "nbconvert_exporter": "python",
   "pygments_lexer": "ipython3",
   "version": "3.10.11"
  }
 },
 "nbformat": 4,
 "nbformat_minor": 2
}
