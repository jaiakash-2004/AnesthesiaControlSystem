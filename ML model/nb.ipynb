{
 "cells": [
  {
   "cell_type": "code",
   "execution_count": 1,
   "metadata": {},
   "outputs": [],
   "source": [
    "import pandas as pd \n",
    "import numpy as np \n"
   ]
  },
  {
   "cell_type": "code",
   "execution_count": null,
   "metadata": {},
   "outputs": [],
   "source": [
    "\n"
   ]
  },
  {
   "cell_type": "code",
   "execution_count": null,
   "metadata": {},
   "outputs": [],
   "source": [
    "#df=pd.read_csv(\"E:/jai/uqvitalsignsdata/case01/uq_vsd_case01_trenddata.csv\")#,on_bad_lines='skip')\n",
    "df.head()"
   ]
  },
  {
   "cell_type": "code",
   "execution_count": null,
   "metadata": {},
   "outputs": [],
   "source": [
    "df[[\"RelativeTimeMilliseconds\",\"HR\",\"SpO2\",\"etCO2\",\"awRR\",\"inSEV\",\"inO2\",\"Alarms...\",\"desc1\",\"desc2\",\"desc3\"]]\n",
    "df.head()\n",
    "df[\"desc3\"].unique()"
   ]
  },
  {
   "cell_type": "code",
   "execution_count": null,
   "metadata": {},
   "outputs": [],
   "source": [
    "l=['SpO2   LOW PERF   ','** SpO2   LOW     ', '** etCO2  LOW     ','AGM NO BREATH     ']\n",
    "l2=['SpO2 LOW PERF','SpO2 LOW ', 'etCO2 LOW','AGM NO BREATH']\n",
    "for i in range(4):\n",
    "    df[str(f\"is_{l2[i]}\")] = np.where(\n",
    "        (df[\"Alarms...\"] == l[i]) | \n",
    "        (df[\"desc1\"] == l[i]) | \n",
    "        (df[\"desc2\"] == l[i]) | \n",
    "        (df[\"desc3\"] == l[i]), \n",
    "        1, \n",
    "        0\n",
    "    )\n",
    "\n",
    "# Show filtered results\n",
    "df[df[\"is_SpO2 LOW PERF\"] == 1].head()"
   ]
  },
  {
   "cell_type": "code",
   "execution_count": null,
   "metadata": {},
   "outputs": [],
   "source": [
    "print(df.columns)\n",
    "x=df[[\"HR\",\"SpO2\",\"etCO2\",\"awRR\",\"is_SpO2 LOW PERF\",\"is_SpO2 LOW \",\"is_etCO2 LOW\",\"is_AGM NO BREATH\"]]\n",
    "x=x.dropna()\n",
    "x.head()    \n",
    "from sklearn.model_selection import train_test_split\n",
    "y=x[['is_SpO2 LOW PERF', 'is_SpO2 LOW ', 'is_etCO2 LOW',\n",
    "       'is_AGM NO BREATH']]\n",
    "x=x[[\"HR\",\"SpO2\",\"etCO2\",\"awRR\"]]\n",
    "print(x.shape,y.shape)\n",
    "y.head()\n",
    "x_train,x_test,y_train,y_test=train_test_split(x,y,test_size=0.2)"
   ]
  },
  {
   "cell_type": "code",
   "execution_count": null,
   "metadata": {},
   "outputs": [],
   "source": [
    "from sklearn.ensemble import RandomForestClassifier\n",
    "from sklearn.multioutput import MultiOutputClassifier\n",
    "import matplotlib.pyplot as plt\n",
    "import seaborn as sns\n",
    "from sklearn.metrics import accuracy_score,confusion_matrix,classification_report\n",
    "base_model = RandomForestClassifier(n_estimators=100, random_state=42)\n",
    "model = MultiOutputClassifier(base_model)\n",
    "\n",
    "# Train Model\n",
    "model.fit(x_train, y_train)\n",
    "\n",
    "# Predict on Test Data\n",
    "Y_pred = model.predict(x_test)\n",
    "print(Y_pred)\n",
    "# Evaluate Model\n",
    "accuracy = accuracy_score(y_test, Y_pred)\n",
    "print(\"Model Accuracy:\", accuracy)\n",
    "\n",
    "print(\"\\nClassification Report:\\n\", classification_report(y_test, Y_pred))\n"
   ]
  },
  {
   "cell_type": "code",
   "execution_count": null,
   "metadata": {},
   "outputs": [],
   "source": [
    "x=df[[\"RelativeTimeMilliseconds\",\"HR\",\"SpO2\",\"etCO2\",\"awRR\",\"is_SpO2 LOW PERF\",\"is_SpO2 LOW \",\"is_etCO2 LOW\",\"is_AGM NO BREATH\",\"inSEV\",\"inO2\"]]\n",
    "x=x.dropna()\n",
    "\"\"\"y=x[[\"inSEV\",\"inO2\"]]\n",
    "x=x[[\"RelativeTimeMilliseconds\",\"HR\",\"SpO2\",\"etCO2\",\"awRR\",\"is_SpO2 LOW PERF\",\"is_SpO2 LOW \",\"is_etCO2 LOW\",\"is_AGM NO BREATH\"]]\n",
    "y.head()\"\"\""
   ]
  },
  {
   "cell_type": "code",
   "execution_count": null,
   "metadata": {},
   "outputs": [],
   "source": [
    "print(x.columns,y.columns)"
   ]
  },
  {
   "cell_type": "markdown",
   "metadata": {},
   "source": [
    "#2 RNN"
   ]
  },
  {
   "cell_type": "code",
   "execution_count": null,
   "metadata": {},
   "outputs": [],
   "source": [
    "import pandas as pd\n",
    "import glob\n",
    "\n",
    "folder_path = \"E:\\\\jai\\\\uqvitalsignsdata\\\\csv_files\\\\\"\n",
    "\n",
    "# Use glob to find all CSV files in the folder\n",
    "csv_files = glob.glob(folder_path + \"*.csv\")\n",
    "\n",
    "for file_path in csv_files:\n",
    "    # Define the string you want to append\n",
    "    string_to_append = \",desc8\"\n",
    "\n",
    "    # Open the file in read mode to get the lines\n",
    "    with open(file_path, 'r') as file:\n",
    "        lines = file.readlines()\n",
    "\n",
    "    # Modify the first line by appending the string\n",
    "    if lines:\n",
    "        lines[0] = lines[0].strip() + string_to_append + '\\n'\n",
    "\n",
    "    # Open the file again in write mode to save the changes\n",
    "    with open(file_path, 'w') as file:\n",
    "        file.writelines(lines)\n",
    "\n",
    "    print(f\"String appended to the first line of {file_path} successfully!\")\n"
   ]
  },
  {
   "cell_type": "code",
   "execution_count": 1,
   "metadata": {},
   "outputs": [],
   "source": [
    "import tensorflow as tf\n",
    "import matplotlib.pyplot as plt\n",
    "from sklearn.preprocessing import MinMaxScaler\n",
    "from sklearn.model_selection import train_test_split\n",
    "from tensorflow.keras.models import Sequential\n",
    "from tensorflow.keras.layers import LSTM, Dense, Dropout\n",
    "from tensorflow.keras.callbacks import EarlyStopping, ModelCheckpoint\n",
    "import numpy as np"
   ]
  },
  {
   "cell_type": "code",
   "execution_count": 2,
   "metadata": {},
   "outputs": [],
   "source": [
    "time_steps = 20  # Lookback period\n",
    "X_seq, Y_seq = [], []\n"
   ]
  },
  {
   "cell_type": "code",
   "execution_count": null,
   "metadata": {},
   "outputs": [],
   "source": []
  },
  {
   "cell_type": "code",
   "execution_count": 4,
   "metadata": {},
   "outputs": [
    {
     "name": "stdout",
     "output_type": "stream",
     "text": [
      "['E:\\\\jai\\\\uqvitalsignsdata\\\\csv_files\\\\uq_vsd_case01_trenddata.csv', 'E:\\\\jai\\\\uqvitalsignsdata\\\\csv_files\\\\uq_vsd_case02_trenddata.csv', 'E:\\\\jai\\\\uqvitalsignsdata\\\\csv_files\\\\uq_vsd_case03_trenddata.csv', 'E:\\\\jai\\\\uqvitalsignsdata\\\\csv_files\\\\uq_vsd_case04_trenddata.csv', 'E:\\\\jai\\\\uqvitalsignsdata\\\\csv_files\\\\uq_vsd_case05_trenddata.csv', 'E:\\\\jai\\\\uqvitalsignsdata\\\\csv_files\\\\uq_vsd_case06_trenddata.csv', 'E:\\\\jai\\\\uqvitalsignsdata\\\\csv_files\\\\uq_vsd_case07_trenddata.csv', 'E:\\\\jai\\\\uqvitalsignsdata\\\\csv_files\\\\uq_vsd_case08_trenddata.csv', 'E:\\\\jai\\\\uqvitalsignsdata\\\\csv_files\\\\uq_vsd_case09_trenddata.csv', 'E:\\\\jai\\\\uqvitalsignsdata\\\\csv_files\\\\uq_vsd_case10_trenddata.csv', 'E:\\\\jai\\\\uqvitalsignsdata\\\\csv_files\\\\uq_vsd_case11_trenddata.csv', 'E:\\\\jai\\\\uqvitalsignsdata\\\\csv_files\\\\uq_vsd_case12_trenddata.csv', 'E:\\\\jai\\\\uqvitalsignsdata\\\\csv_files\\\\uq_vsd_case13_trenddata.csv', 'E:\\\\jai\\\\uqvitalsignsdata\\\\csv_files\\\\uq_vsd_case14_trenddata.csv', 'E:\\\\jai\\\\uqvitalsignsdata\\\\csv_files\\\\uq_vsd_case15_trenddata.csv', 'E:\\\\jai\\\\uqvitalsignsdata\\\\csv_files\\\\uq_vsd_case16_trenddata.csv', 'E:\\\\jai\\\\uqvitalsignsdata\\\\csv_files\\\\uq_vsd_case17_trenddata.csv', 'E:\\\\jai\\\\uqvitalsignsdata\\\\csv_files\\\\uq_vsd_case18_trenddata.csv', 'E:\\\\jai\\\\uqvitalsignsdata\\\\csv_files\\\\uq_vsd_case19_trenddata.csv', 'E:\\\\jai\\\\uqvitalsignsdata\\\\csv_files\\\\uq_vsd_case20_trenddata.csv', 'E:\\\\jai\\\\uqvitalsignsdata\\\\csv_files\\\\uq_vsd_case21_trenddata.csv', 'E:\\\\jai\\\\uqvitalsignsdata\\\\csv_files\\\\uq_vsd_case22_trenddata.csv', 'E:\\\\jai\\\\uqvitalsignsdata\\\\csv_files\\\\uq_vsd_case23_trenddata.csv', 'E:\\\\jai\\\\uqvitalsignsdata\\\\csv_files\\\\uq_vsd_case24_trenddata.csv', 'E:\\\\jai\\\\uqvitalsignsdata\\\\csv_files\\\\uq_vsd_case25_trenddata.csv', 'E:\\\\jai\\\\uqvitalsignsdata\\\\csv_files\\\\uq_vsd_case26_trenddata.csv', 'E:\\\\jai\\\\uqvitalsignsdata\\\\csv_files\\\\uq_vsd_case27_trenddata.csv', 'E:\\\\jai\\\\uqvitalsignsdata\\\\csv_files\\\\uq_vsd_case28_trenddata.csv', 'E:\\\\jai\\\\uqvitalsignsdata\\\\csv_files\\\\uq_vsd_case29_trenddata.csv', 'E:\\\\jai\\\\uqvitalsignsdata\\\\csv_files\\\\uq_vsd_case30_trenddata.csv', 'E:\\\\jai\\\\uqvitalsignsdata\\\\csv_files\\\\uq_vsd_case31_trenddata.csv', 'E:\\\\jai\\\\uqvitalsignsdata\\\\csv_files\\\\uq_vsd_case32_trenddata.csv']\n",
      "E:\\jai\\uqvitalsignsdata\\csv_files\\uq_vsd_case01_trenddata.csv\n",
      "E:\\jai\\uqvitalsignsdata\\csv_files\\uq_vsd_case02_trenddata.csv\n",
      "E:\\jai\\uqvitalsignsdata\\csv_files\\uq_vsd_case03_trenddata.csv\n",
      "E:\\jai\\uqvitalsignsdata\\csv_files\\uq_vsd_case04_trenddata.csv\n",
      "E:\\jai\\uqvitalsignsdata\\csv_files\\uq_vsd_case05_trenddata.csv\n",
      "E:\\jai\\uqvitalsignsdata\\csv_files\\uq_vsd_case06_trenddata.csv\n",
      "E:\\jai\\uqvitalsignsdata\\csv_files\\uq_vsd_case07_trenddata.csv\n",
      "E:\\jai\\uqvitalsignsdata\\csv_files\\uq_vsd_case08_trenddata.csv\n",
      "E:\\jai\\uqvitalsignsdata\\csv_files\\uq_vsd_case09_trenddata.csv\n",
      "E:\\jai\\uqvitalsignsdata\\csv_files\\uq_vsd_case10_trenddata.csv\n",
      "E:\\jai\\uqvitalsignsdata\\csv_files\\uq_vsd_case11_trenddata.csv\n"
     ]
    },
    {
     "name": "stderr",
     "output_type": "stream",
     "text": [
      "C:\\Users\\mahasarabesh\\AppData\\Local\\Temp\\ipykernel_17800\\1301487483.py:18: DtypeWarning: Columns (58,59) have mixed types. Specify dtype option on import or set low_memory=False.\n",
      "  df = pd.read_csv(file)\n"
     ]
    },
    {
     "name": "stdout",
     "output_type": "stream",
     "text": [
      "E:\\jai\\uqvitalsignsdata\\csv_files\\uq_vsd_case12_trenddata.csv\n",
      "E:\\jai\\uqvitalsignsdata\\csv_files\\uq_vsd_case13_trenddata.csv\n",
      "Skipping E:\\jai\\uqvitalsignsdata\\csv_files\\uq_vsd_case14_trenddata.csv due to empty data after dropping NaNs.\n",
      "Skipping E:\\jai\\uqvitalsignsdata\\csv_files\\uq_vsd_case15_trenddata.csv due to empty data after dropping NaNs.\n",
      "E:\\jai\\uqvitalsignsdata\\csv_files\\uq_vsd_case16_trenddata.csv\n",
      "Skipping E:\\jai\\uqvitalsignsdata\\csv_files\\uq_vsd_case17_trenddata.csv due to empty data after dropping NaNs.\n",
      "Skipping E:\\jai\\uqvitalsignsdata\\csv_files\\uq_vsd_case18_trenddata.csv due to empty data after dropping NaNs.\n",
      "Skipping E:\\jai\\uqvitalsignsdata\\csv_files\\uq_vsd_case19_trenddata.csv due to empty data after dropping NaNs.\n",
      "E:\\jai\\uqvitalsignsdata\\csv_files\\uq_vsd_case20_trenddata.csv\n",
      "E:\\jai\\uqvitalsignsdata\\csv_files\\uq_vsd_case21_trenddata.csv\n",
      "Skipping E:\\jai\\uqvitalsignsdata\\csv_files\\uq_vsd_case22_trenddata.csv due to empty data after dropping NaNs.\n",
      "E:\\jai\\uqvitalsignsdata\\csv_files\\uq_vsd_case23_trenddata.csv\n",
      "E:\\jai\\uqvitalsignsdata\\csv_files\\uq_vsd_case24_trenddata.csv\n",
      "Skipping E:\\jai\\uqvitalsignsdata\\csv_files\\uq_vsd_case25_trenddata.csv due to empty data after dropping NaNs.\n",
      "E:\\jai\\uqvitalsignsdata\\csv_files\\uq_vsd_case26_trenddata.csv\n",
      "Skipping E:\\jai\\uqvitalsignsdata\\csv_files\\uq_vsd_case27_trenddata.csv due to empty data after dropping NaNs.\n",
      "Skipping E:\\jai\\uqvitalsignsdata\\csv_files\\uq_vsd_case28_trenddata.csv due to empty data after dropping NaNs.\n",
      "Skipping E:\\jai\\uqvitalsignsdata\\csv_files\\uq_vsd_case29_trenddata.csv due to empty data after dropping NaNs.\n",
      "E:\\jai\\uqvitalsignsdata\\csv_files\\uq_vsd_case30_trenddata.csv\n",
      "E:\\jai\\uqvitalsignsdata\\csv_files\\uq_vsd_case31_trenddata.csv\n",
      "E:\\jai\\uqvitalsignsdata\\csv_files\\uq_vsd_case32_trenddata.csv\n",
      "          HR   SpO2  etCO2  awRR  is_SpO2 LOW PERF  is_SpO2 LOW   \\\n",
      "0       72.0  100.0   24.0  16.0                 0             1   \n",
      "1       72.0  100.0   24.0  16.0                 0             1   \n",
      "2       72.0  100.0   24.0  16.0                 0             1   \n",
      "3       72.0  100.0   24.0  16.0                 0             1   \n",
      "4       71.0  100.0   24.0  16.0                 0             1   \n",
      "...      ...    ...    ...   ...               ...           ...   \n",
      "128357  65.0  100.0   31.0  12.0                 0             0   \n",
      "128358  66.0  100.0   31.0  12.0                 0             0   \n",
      "128359  65.0  100.0   31.0  12.0                 0             0   \n",
      "128360  65.0  100.0   31.0  12.0                 0             0   \n",
      "128361  65.0  100.0   31.0  12.0                 0             0   \n",
      "\n",
      "        is_etCO2 LOW  is_AGM NO BREATH  inSEV  inO2  \n",
      "0                  1                 0    0.0  98.0  \n",
      "1                  1                 0    0.0  98.0  \n",
      "2                  1                 0    0.0  98.0  \n",
      "3                  1                 0    0.0  98.0  \n",
      "4                  1                 0    0.0  98.0  \n",
      "...              ...               ...    ...   ...  \n",
      "128357             0                 0    0.0  98.0  \n",
      "128358             0                 0    0.0  98.0  \n",
      "128359             0                 0    0.0  98.0  \n",
      "128360             0                 0    0.0  98.0  \n",
      "128361             0                 0    0.0  98.0  \n",
      "\n",
      "[128362 rows x 10 columns]\n"
     ]
    }
   ],
   "source": [
    "import pandas as pd\n",
    "import glob\n",
    "\n",
    "# Define the folder path containing the CSV files\n",
    "folder_path = \"E:\\\\jai\\\\uqvitalsignsdata\\\\csv_files\\\\\"\n",
    "\n",
    "# Use glob to find all CSV files in the folder\n",
    "csv_files = glob.glob(folder_path + \"*.csv\")\n",
    "print(csv_files)\n",
    "# Initialize an empty DataFrame to append data\n",
    "df_combined = pd.DataFrame()\n",
    "l=['SpO2   LOW PERF   ','** SpO2   LOW     ', '** etCO2  LOW     ','AGM NO BREATH     ']\n",
    "l2=['SpO2 LOW PERF','SpO2 LOW ', 'etCO2 LOW','AGM NO BREATH']\n",
    "scaler_X = MinMaxScaler()\n",
    "scaler_Y = MinMaxScaler()\n",
    "# Iterate through each CSV file and append to the combined DataFrame\n",
    "for file in csv_files:\n",
    "    df = pd.read_csv(file)\n",
    "    \n",
    "    df[[\"RelativeTimeMilliseconds\",\"HR\",\"SpO2\",\"etCO2\",\"awRR\",\"inSEV\",\"inO2\",\"Alarms...\",\"desc1\",\"desc2\",\"desc3\",\"desc4\",\"desc5\",\"desc6\",\"desc7\"]]\n",
    "    df.head()\n",
    "    \n",
    "    for i in range(4):\n",
    "        df[str(f\"is_{l2[i]}\")] = np.where(\n",
    "            (df[\"Alarms...\"] == l[i]) | \n",
    "            (df[\"desc1\"] == l[i]) | \n",
    "            (df[\"desc2\"] == l[i]) | \n",
    "            (df[\"desc4\"] == l[i]) | \n",
    "            (df[\"desc5\"] == l[i]) | \n",
    "            (df[\"desc6\"] == l[i]) | \n",
    "            (df[\"desc7\"] == l[i]) | \n",
    "            (df[\"desc3\"] == l[i]), \n",
    "            1, \n",
    "            0\n",
    "        )\n",
    "    x=df[[\"RelativeTimeMilliseconds\",\"HR\",\"SpO2\",\"etCO2\",\"awRR\",\"is_SpO2 LOW PERF\",\"is_SpO2 LOW \",\"is_etCO2 LOW\",\"is_AGM NO BREATH\",\"inSEV\",\"inO2\"]]\n",
    "    x=x.dropna()\n",
    "\n",
    "\n",
    "    df = x.sort_values(by=\"RelativeTimeMilliseconds\")\n",
    "    df.set_index(\"RelativeTimeMilliseconds\", inplace=True)\n",
    "\n",
    "    # Features (X) & Targets (Y)\n",
    "    X = df.drop(columns=['inSEV', 'inO2']).values  # Features\n",
    "    Y = df[['inSEV', 'inO2']].values  # Targets\n",
    "\n",
    "    # Normalize Data\n",
    "\n",
    "    if x.empty:\n",
    "        print(f\"Skipping {file} due to empty data after dropping NaNs.\")\n",
    "        continue\n",
    "    X = scaler_X.fit_transform(X)\n",
    "    Y = scaler_Y.fit_transform(Y)\n",
    "\n",
    "    # Reshape X for RNN: (samples, timesteps, features)\n",
    "\n",
    "\n",
    "    for i in range(len(X) - time_steps):\n",
    "        X_seq.append(X[i:i + time_steps])  # Last 10 steps as input\n",
    "        Y_seq.append(Y[i + time_steps]) \n",
    "    print(file)   # Next step as output\n",
    "    df_combined = pd.concat([df_combined, df], ignore_index=True)\n",
    "\n",
    "# Now df_combined contains all the rows from the CSV files\n",
    "print(df_combined)"
   ]
  },
  {
   "cell_type": "code",
   "execution_count": null,
   "metadata": {},
   "outputs": [],
   "source": []
  },
  {
   "cell_type": "code",
   "execution_count": 5,
   "metadata": {},
   "outputs": [
    {
     "name": "stdout",
     "output_type": "stream",
     "text": [
      "(255844, 20, 8)\n"
     ]
    }
   ],
   "source": [
    "X_seq, Y_seq = np.array(X_seq), np.array(Y_seq)\n",
    "print(X_seq.shape)\n",
    "# Train-Test Split\n",
    "X_train, X_test, Y_train, Y_test = train_test_split(X_seq, Y_seq, test_size=0.2, random_state=42)"
   ]
  },
  {
   "cell_type": "code",
   "execution_count": 6,
   "metadata": {},
   "outputs": [
    {
     "name": "stderr",
     "output_type": "stream",
     "text": [
      "e:\\Software\\anaconda3\\envs\\tt\\lib\\site-packages\\keras\\src\\layers\\rnn\\rnn.py:200: UserWarning: Do not pass an `input_shape`/`input_dim` argument to a layer. When using Sequential models, prefer using an `Input(shape)` object as the first layer in the model instead.\n",
      "  super().__init__(**kwargs)\n"
     ]
    },
    {
     "data": {
      "text/html": [
       "<pre style=\"white-space:pre;overflow-x:auto;line-height:normal;font-family:Menlo,'DejaVu Sans Mono',consolas,'Courier New',monospace\"><span style=\"font-weight: bold\">Model: \"sequential\"</span>\n",
       "</pre>\n"
      ],
      "text/plain": [
       "\u001b[1mModel: \"sequential\"\u001b[0m\n"
      ]
     },
     "metadata": {},
     "output_type": "display_data"
    },
    {
     "data": {
      "text/html": [
       "<pre style=\"white-space:pre;overflow-x:auto;line-height:normal;font-family:Menlo,'DejaVu Sans Mono',consolas,'Courier New',monospace\">┏━━━━━━━━━━━━━━━━━━━━━━━━━━━━━━━━━┳━━━━━━━━━━━━━━━━━━━━━━━━┳━━━━━━━━━━━━━━━┓\n",
       "┃<span style=\"font-weight: bold\"> Layer (type)                    </span>┃<span style=\"font-weight: bold\"> Output Shape           </span>┃<span style=\"font-weight: bold\">       Param # </span>┃\n",
       "┡━━━━━━━━━━━━━━━━━━━━━━━━━━━━━━━━━╇━━━━━━━━━━━━━━━━━━━━━━━━╇━━━━━━━━━━━━━━━┩\n",
       "│ lstm (<span style=\"color: #0087ff; text-decoration-color: #0087ff\">LSTM</span>)                     │ (<span style=\"color: #00d7ff; text-decoration-color: #00d7ff\">None</span>, <span style=\"color: #00af00; text-decoration-color: #00af00\">20</span>, <span style=\"color: #00af00; text-decoration-color: #00af00\">128</span>)        │        <span style=\"color: #00af00; text-decoration-color: #00af00\">70,144</span> │\n",
       "├─────────────────────────────────┼────────────────────────┼───────────────┤\n",
       "│ dropout (<span style=\"color: #0087ff; text-decoration-color: #0087ff\">Dropout</span>)               │ (<span style=\"color: #00d7ff; text-decoration-color: #00d7ff\">None</span>, <span style=\"color: #00af00; text-decoration-color: #00af00\">20</span>, <span style=\"color: #00af00; text-decoration-color: #00af00\">128</span>)        │             <span style=\"color: #00af00; text-decoration-color: #00af00\">0</span> │\n",
       "├─────────────────────────────────┼────────────────────────┼───────────────┤\n",
       "│ lstm_1 (<span style=\"color: #0087ff; text-decoration-color: #0087ff\">LSTM</span>)                   │ (<span style=\"color: #00d7ff; text-decoration-color: #00d7ff\">None</span>, <span style=\"color: #00af00; text-decoration-color: #00af00\">64</span>)             │        <span style=\"color: #00af00; text-decoration-color: #00af00\">49,408</span> │\n",
       "├─────────────────────────────────┼────────────────────────┼───────────────┤\n",
       "│ dropout_1 (<span style=\"color: #0087ff; text-decoration-color: #0087ff\">Dropout</span>)             │ (<span style=\"color: #00d7ff; text-decoration-color: #00d7ff\">None</span>, <span style=\"color: #00af00; text-decoration-color: #00af00\">64</span>)             │             <span style=\"color: #00af00; text-decoration-color: #00af00\">0</span> │\n",
       "├─────────────────────────────────┼────────────────────────┼───────────────┤\n",
       "│ dense (<span style=\"color: #0087ff; text-decoration-color: #0087ff\">Dense</span>)                   │ (<span style=\"color: #00d7ff; text-decoration-color: #00d7ff\">None</span>, <span style=\"color: #00af00; text-decoration-color: #00af00\">32</span>)             │         <span style=\"color: #00af00; text-decoration-color: #00af00\">2,080</span> │\n",
       "├─────────────────────────────────┼────────────────────────┼───────────────┤\n",
       "│ dense_1 (<span style=\"color: #0087ff; text-decoration-color: #0087ff\">Dense</span>)                 │ (<span style=\"color: #00d7ff; text-decoration-color: #00d7ff\">None</span>, <span style=\"color: #00af00; text-decoration-color: #00af00\">2</span>)              │            <span style=\"color: #00af00; text-decoration-color: #00af00\">66</span> │\n",
       "└─────────────────────────────────┴────────────────────────┴───────────────┘\n",
       "</pre>\n"
      ],
      "text/plain": [
       "┏━━━━━━━━━━━━━━━━━━━━━━━━━━━━━━━━━┳━━━━━━━━━━━━━━━━━━━━━━━━┳━━━━━━━━━━━━━━━┓\n",
       "┃\u001b[1m \u001b[0m\u001b[1mLayer (type)                   \u001b[0m\u001b[1m \u001b[0m┃\u001b[1m \u001b[0m\u001b[1mOutput Shape          \u001b[0m\u001b[1m \u001b[0m┃\u001b[1m \u001b[0m\u001b[1m      Param #\u001b[0m\u001b[1m \u001b[0m┃\n",
       "┡━━━━━━━━━━━━━━━━━━━━━━━━━━━━━━━━━╇━━━━━━━━━━━━━━━━━━━━━━━━╇━━━━━━━━━━━━━━━┩\n",
       "│ lstm (\u001b[38;5;33mLSTM\u001b[0m)                     │ (\u001b[38;5;45mNone\u001b[0m, \u001b[38;5;34m20\u001b[0m, \u001b[38;5;34m128\u001b[0m)        │        \u001b[38;5;34m70,144\u001b[0m │\n",
       "├─────────────────────────────────┼────────────────────────┼───────────────┤\n",
       "│ dropout (\u001b[38;5;33mDropout\u001b[0m)               │ (\u001b[38;5;45mNone\u001b[0m, \u001b[38;5;34m20\u001b[0m, \u001b[38;5;34m128\u001b[0m)        │             \u001b[38;5;34m0\u001b[0m │\n",
       "├─────────────────────────────────┼────────────────────────┼───────────────┤\n",
       "│ lstm_1 (\u001b[38;5;33mLSTM\u001b[0m)                   │ (\u001b[38;5;45mNone\u001b[0m, \u001b[38;5;34m64\u001b[0m)             │        \u001b[38;5;34m49,408\u001b[0m │\n",
       "├─────────────────────────────────┼────────────────────────┼───────────────┤\n",
       "│ dropout_1 (\u001b[38;5;33mDropout\u001b[0m)             │ (\u001b[38;5;45mNone\u001b[0m, \u001b[38;5;34m64\u001b[0m)             │             \u001b[38;5;34m0\u001b[0m │\n",
       "├─────────────────────────────────┼────────────────────────┼───────────────┤\n",
       "│ dense (\u001b[38;5;33mDense\u001b[0m)                   │ (\u001b[38;5;45mNone\u001b[0m, \u001b[38;5;34m32\u001b[0m)             │         \u001b[38;5;34m2,080\u001b[0m │\n",
       "├─────────────────────────────────┼────────────────────────┼───────────────┤\n",
       "│ dense_1 (\u001b[38;5;33mDense\u001b[0m)                 │ (\u001b[38;5;45mNone\u001b[0m, \u001b[38;5;34m2\u001b[0m)              │            \u001b[38;5;34m66\u001b[0m │\n",
       "└─────────────────────────────────┴────────────────────────┴───────────────┘\n"
      ]
     },
     "metadata": {},
     "output_type": "display_data"
    },
    {
     "data": {
      "text/html": [
       "<pre style=\"white-space:pre;overflow-x:auto;line-height:normal;font-family:Menlo,'DejaVu Sans Mono',consolas,'Courier New',monospace\"><span style=\"font-weight: bold\"> Total params: </span><span style=\"color: #00af00; text-decoration-color: #00af00\">121,698</span> (475.38 KB)\n",
       "</pre>\n"
      ],
      "text/plain": [
       "\u001b[1m Total params: \u001b[0m\u001b[38;5;34m121,698\u001b[0m (475.38 KB)\n"
      ]
     },
     "metadata": {},
     "output_type": "display_data"
    },
    {
     "data": {
      "text/html": [
       "<pre style=\"white-space:pre;overflow-x:auto;line-height:normal;font-family:Menlo,'DejaVu Sans Mono',consolas,'Courier New',monospace\"><span style=\"font-weight: bold\"> Trainable params: </span><span style=\"color: #00af00; text-decoration-color: #00af00\">121,698</span> (475.38 KB)\n",
       "</pre>\n"
      ],
      "text/plain": [
       "\u001b[1m Trainable params: \u001b[0m\u001b[38;5;34m121,698\u001b[0m (475.38 KB)\n"
      ]
     },
     "metadata": {},
     "output_type": "display_data"
    },
    {
     "data": {
      "text/html": [
       "<pre style=\"white-space:pre;overflow-x:auto;line-height:normal;font-family:Menlo,'DejaVu Sans Mono',consolas,'Courier New',monospace\"><span style=\"font-weight: bold\"> Non-trainable params: </span><span style=\"color: #00af00; text-decoration-color: #00af00\">0</span> (0.00 B)\n",
       "</pre>\n"
      ],
      "text/plain": [
       "\u001b[1m Non-trainable params: \u001b[0m\u001b[38;5;34m0\u001b[0m (0.00 B)\n"
      ]
     },
     "metadata": {},
     "output_type": "display_data"
    }
   ],
   "source": [
    "# Build RNN Model\n",
    "model = Sequential([\n",
    "    LSTM(128, return_sequences=True, input_shape=(X_train.shape[1], X_train.shape[2])),\n",
    "    Dropout(0.3),\n",
    "    LSTM(64, return_sequences=False),\n",
    "    Dropout(0.3),\n",
    "    Dense(32, activation='relu'),\n",
    "    Dense(Y_train.shape[1], activation='linear')  # Output Layer (2 neurons for inSEV, inO2)\n",
    "])\n",
    "\n",
    "# Compile Model\n",
    "model.compile(optimizer='adam', loss='mse', metrics=['mae','accuracy'])\n",
    "\n",
    "# Model Summary\n",
    "model.summary()\n"
   ]
  },
  {
   "cell_type": "code",
   "execution_count": 7,
   "metadata": {},
   "outputs": [
    {
     "name": "stdout",
     "output_type": "stream",
     "text": [
      "Epoch 1/100\n",
      "\u001b[1m6397/6397\u001b[0m \u001b[32m━━━━━━━━━━━━━━━━━━━━\u001b[0m\u001b[37m\u001b[0m \u001b[1m135s\u001b[0m 21ms/step - accuracy: 0.7726 - loss: 0.0508 - mae: 0.1706 - val_accuracy: 0.8405 - val_loss: 0.0317 - val_mae: 0.1181\n",
      "Epoch 2/100\n",
      "\u001b[1m6397/6397\u001b[0m \u001b[32m━━━━━━━━━━━━━━━━━━━━\u001b[0m\u001b[37m\u001b[0m \u001b[1m133s\u001b[0m 21ms/step - accuracy: 0.8517 - loss: 0.0280 - mae: 0.1120 - val_accuracy: 0.8685 - val_loss: 0.0247 - val_mae: 0.0984\n",
      "Epoch 3/100\n",
      "\u001b[1m6397/6397\u001b[0m \u001b[32m━━━━━━━━━━━━━━━━━━━━\u001b[0m\u001b[37m\u001b[0m \u001b[1m133s\u001b[0m 21ms/step - accuracy: 0.8732 - loss: 0.0225 - mae: 0.0955 - val_accuracy: 0.8848 - val_loss: 0.0189 - val_mae: 0.0824\n",
      "Epoch 4/100\n",
      "\u001b[1m6397/6397\u001b[0m \u001b[32m━━━━━━━━━━━━━━━━━━━━\u001b[0m\u001b[37m\u001b[0m \u001b[1m133s\u001b[0m 21ms/step - accuracy: 0.8826 - loss: 0.0198 - mae: 0.0873 - val_accuracy: 0.8795 - val_loss: 0.0201 - val_mae: 0.0849\n",
      "Epoch 5/100\n",
      "\u001b[1m6397/6397\u001b[0m \u001b[32m━━━━━━━━━━━━━━━━━━━━\u001b[0m\u001b[37m\u001b[0m \u001b[1m132s\u001b[0m 21ms/step - accuracy: 0.8914 - loss: 0.0178 - mae: 0.0809 - val_accuracy: 0.8882 - val_loss: 0.0161 - val_mae: 0.0742\n",
      "Epoch 6/100\n",
      "\u001b[1m6397/6397\u001b[0m \u001b[32m━━━━━━━━━━━━━━━━━━━━\u001b[0m\u001b[37m\u001b[0m \u001b[1m136s\u001b[0m 21ms/step - accuracy: 0.8976 - loss: 0.0164 - mae: 0.0769 - val_accuracy: 0.8880 - val_loss: 0.0196 - val_mae: 0.0832\n",
      "Epoch 7/100\n",
      "\u001b[1m6397/6397\u001b[0m \u001b[32m━━━━━━━━━━━━━━━━━━━━\u001b[0m\u001b[37m\u001b[0m \u001b[1m138s\u001b[0m 22ms/step - accuracy: 0.9019 - loss: 0.0157 - mae: 0.0747 - val_accuracy: 0.9079 - val_loss: 0.0142 - val_mae: 0.0675\n",
      "Epoch 8/100\n",
      "\u001b[1m6397/6397\u001b[0m \u001b[32m━━━━━━━━━━━━━━━━━━━━\u001b[0m\u001b[37m\u001b[0m \u001b[1m131s\u001b[0m 20ms/step - accuracy: 0.9056 - loss: 0.0148 - mae: 0.0722 - val_accuracy: 0.9162 - val_loss: 0.0122 - val_mae: 0.0612\n",
      "Epoch 9/100\n",
      "\u001b[1m6397/6397\u001b[0m \u001b[32m━━━━━━━━━━━━━━━━━━━━\u001b[0m\u001b[37m\u001b[0m \u001b[1m133s\u001b[0m 21ms/step - accuracy: 0.9100 - loss: 0.0140 - mae: 0.0696 - val_accuracy: 0.9178 - val_loss: 0.0117 - val_mae: 0.0608\n",
      "Epoch 10/100\n",
      "\u001b[1m6397/6397\u001b[0m \u001b[32m━━━━━━━━━━━━━━━━━━━━\u001b[0m\u001b[37m\u001b[0m \u001b[1m130s\u001b[0m 20ms/step - accuracy: 0.9119 - loss: 0.0131 - mae: 0.0673 - val_accuracy: 0.9221 - val_loss: 0.0110 - val_mae: 0.0591\n",
      "Epoch 11/100\n",
      "\u001b[1m6397/6397\u001b[0m \u001b[32m━━━━━━━━━━━━━━━━━━━━\u001b[0m\u001b[37m\u001b[0m \u001b[1m131s\u001b[0m 20ms/step - accuracy: 0.9138 - loss: 0.0127 - mae: 0.0659 - val_accuracy: 0.9251 - val_loss: 0.0112 - val_mae: 0.0582\n",
      "Epoch 12/100\n",
      "\u001b[1m6397/6397\u001b[0m \u001b[32m━━━━━━━━━━━━━━━━━━━━\u001b[0m\u001b[37m\u001b[0m \u001b[1m132s\u001b[0m 21ms/step - accuracy: 0.9169 - loss: 0.0123 - mae: 0.0645 - val_accuracy: 0.9244 - val_loss: 0.0099 - val_mae: 0.0544\n",
      "Epoch 13/100\n",
      "\u001b[1m6397/6397\u001b[0m \u001b[32m━━━━━━━━━━━━━━━━━━━━\u001b[0m\u001b[37m\u001b[0m \u001b[1m132s\u001b[0m 21ms/step - accuracy: 0.9185 - loss: 0.0121 - mae: 0.0637 - val_accuracy: 0.9096 - val_loss: 0.0116 - val_mae: 0.0592\n",
      "Epoch 14/100\n",
      "\u001b[1m6397/6397\u001b[0m \u001b[32m━━━━━━━━━━━━━━━━━━━━\u001b[0m\u001b[37m\u001b[0m \u001b[1m132s\u001b[0m 21ms/step - accuracy: 0.9213 - loss: 0.0113 - mae: 0.0614 - val_accuracy: 0.9288 - val_loss: 0.0088 - val_mae: 0.0529\n",
      "Epoch 15/100\n",
      "\u001b[1m6397/6397\u001b[0m \u001b[32m━━━━━━━━━━━━━━━━━━━━\u001b[0m\u001b[37m\u001b[0m \u001b[1m131s\u001b[0m 20ms/step - accuracy: 0.9222 - loss: 0.0107 - mae: 0.0597 - val_accuracy: 0.9305 - val_loss: 0.0104 - val_mae: 0.0559\n",
      "Epoch 16/100\n",
      "\u001b[1m6397/6397\u001b[0m \u001b[32m━━━━━━━━━━━━━━━━━━━━\u001b[0m\u001b[37m\u001b[0m \u001b[1m132s\u001b[0m 21ms/step - accuracy: 0.9224 - loss: 0.0108 - mae: 0.0598 - val_accuracy: 0.9317 - val_loss: 0.0091 - val_mae: 0.0516\n",
      "Epoch 17/100\n",
      "\u001b[1m6397/6397\u001b[0m \u001b[32m━━━━━━━━━━━━━━━━━━━━\u001b[0m\u001b[37m\u001b[0m \u001b[1m132s\u001b[0m 21ms/step - accuracy: 0.9234 - loss: 0.0102 - mae: 0.0582 - val_accuracy: 0.9289 - val_loss: 0.0081 - val_mae: 0.0501\n",
      "Epoch 18/100\n",
      "\u001b[1m6397/6397\u001b[0m \u001b[32m━━━━━━━━━━━━━━━━━━━━\u001b[0m\u001b[37m\u001b[0m \u001b[1m131s\u001b[0m 20ms/step - accuracy: 0.9262 - loss: 0.0097 - mae: 0.0562 - val_accuracy: 0.9271 - val_loss: 0.0098 - val_mae: 0.0550\n",
      "Epoch 19/100\n",
      "\u001b[1m6397/6397\u001b[0m \u001b[32m━━━━━━━━━━━━━━━━━━━━\u001b[0m\u001b[37m\u001b[0m \u001b[1m131s\u001b[0m 21ms/step - accuracy: 0.9278 - loss: 0.0096 - mae: 0.0561 - val_accuracy: 0.9371 - val_loss: 0.0078 - val_mae: 0.0487\n",
      "Epoch 20/100\n",
      "\u001b[1m6397/6397\u001b[0m \u001b[32m━━━━━━━━━━━━━━━━━━━━\u001b[0m\u001b[37m\u001b[0m \u001b[1m131s\u001b[0m 20ms/step - accuracy: 0.9304 - loss: 0.0091 - mae: 0.0543 - val_accuracy: 0.9344 - val_loss: 0.0075 - val_mae: 0.0471\n",
      "Epoch 21/100\n",
      "\u001b[1m6397/6397\u001b[0m \u001b[32m━━━━━━━━━━━━━━━━━━━━\u001b[0m\u001b[37m\u001b[0m \u001b[1m132s\u001b[0m 21ms/step - accuracy: 0.9287 - loss: 0.0090 - mae: 0.0541 - val_accuracy: 0.9333 - val_loss: 0.0080 - val_mae: 0.0481\n",
      "Epoch 22/100\n",
      "\u001b[1m6397/6397\u001b[0m \u001b[32m━━━━━━━━━━━━━━━━━━━━\u001b[0m\u001b[37m\u001b[0m \u001b[1m132s\u001b[0m 21ms/step - accuracy: 0.9310 - loss: 0.0088 - mae: 0.0533 - val_accuracy: 0.9374 - val_loss: 0.0071 - val_mae: 0.0460\n",
      "Epoch 23/100\n",
      "\u001b[1m6397/6397\u001b[0m \u001b[32m━━━━━━━━━━━━━━━━━━━━\u001b[0m\u001b[37m\u001b[0m \u001b[1m131s\u001b[0m 21ms/step - accuracy: 0.9304 - loss: 0.0086 - mae: 0.0528 - val_accuracy: 0.9382 - val_loss: 0.0071 - val_mae: 0.0462\n",
      "Epoch 24/100\n",
      "\u001b[1m6397/6397\u001b[0m \u001b[32m━━━━━━━━━━━━━━━━━━━━\u001b[0m\u001b[37m\u001b[0m \u001b[1m132s\u001b[0m 21ms/step - accuracy: 0.9306 - loss: 0.0087 - mae: 0.0532 - val_accuracy: 0.9305 - val_loss: 0.0089 - val_mae: 0.0517\n",
      "Epoch 25/100\n",
      "\u001b[1m6397/6397\u001b[0m \u001b[32m━━━━━━━━━━━━━━━━━━━━\u001b[0m\u001b[37m\u001b[0m \u001b[1m133s\u001b[0m 21ms/step - accuracy: 0.9335 - loss: 0.0082 - mae: 0.0514 - val_accuracy: 0.9351 - val_loss: 0.0076 - val_mae: 0.0471\n",
      "Epoch 26/100\n",
      "\u001b[1m6397/6397\u001b[0m \u001b[32m━━━━━━━━━━━━━━━━━━━━\u001b[0m\u001b[37m\u001b[0m \u001b[1m133s\u001b[0m 21ms/step - accuracy: 0.9331 - loss: 0.0079 - mae: 0.0504 - val_accuracy: 0.9363 - val_loss: 0.0092 - val_mae: 0.0513\n",
      "Epoch 27/100\n",
      "\u001b[1m6397/6397\u001b[0m \u001b[32m━━━━━━━━━━━━━━━━━━━━\u001b[0m\u001b[37m\u001b[0m \u001b[1m132s\u001b[0m 21ms/step - accuracy: 0.9360 - loss: 0.0080 - mae: 0.0504 - val_accuracy: 0.9372 - val_loss: 0.0091 - val_mae: 0.0498\n",
      "Epoch 28/100\n",
      "\u001b[1m6397/6397\u001b[0m \u001b[32m━━━━━━━━━━━━━━━━━━━━\u001b[0m\u001b[37m\u001b[0m \u001b[1m132s\u001b[0m 21ms/step - accuracy: 0.9355 - loss: 0.0078 - mae: 0.0496 - val_accuracy: 0.9464 - val_loss: 0.0064 - val_mae: 0.0429\n",
      "Epoch 29/100\n",
      "\u001b[1m6397/6397\u001b[0m \u001b[32m━━━━━━━━━━━━━━━━━━━━\u001b[0m\u001b[37m\u001b[0m \u001b[1m133s\u001b[0m 21ms/step - accuracy: 0.9372 - loss: 0.0074 - mae: 0.0484 - val_accuracy: 0.9403 - val_loss: 0.0058 - val_mae: 0.0408\n",
      "Epoch 30/100\n",
      "\u001b[1m6397/6397\u001b[0m \u001b[32m━━━━━━━━━━━━━━━━━━━━\u001b[0m\u001b[37m\u001b[0m \u001b[1m133s\u001b[0m 21ms/step - accuracy: 0.9354 - loss: 0.0075 - mae: 0.0488 - val_accuracy: 0.9298 - val_loss: 0.0097 - val_mae: 0.0527\n",
      "Epoch 31/100\n",
      "\u001b[1m6397/6397\u001b[0m \u001b[32m━━━━━━━━━━━━━━━━━━━━\u001b[0m\u001b[37m\u001b[0m \u001b[1m138s\u001b[0m 22ms/step - accuracy: 0.9371 - loss: 0.0075 - mae: 0.0488 - val_accuracy: 0.9421 - val_loss: 0.0058 - val_mae: 0.0417\n",
      "Epoch 32/100\n",
      "\u001b[1m6397/6397\u001b[0m \u001b[32m━━━━━━━━━━━━━━━━━━━━\u001b[0m\u001b[37m\u001b[0m \u001b[1m135s\u001b[0m 21ms/step - accuracy: 0.9372 - loss: 0.0074 - mae: 0.0481 - val_accuracy: 0.9395 - val_loss: 0.0068 - val_mae: 0.0445\n",
      "Epoch 33/100\n",
      "\u001b[1m6397/6397\u001b[0m \u001b[32m━━━━━━━━━━━━━━━━━━━━\u001b[0m\u001b[37m\u001b[0m \u001b[1m135s\u001b[0m 21ms/step - accuracy: 0.9382 - loss: 0.0070 - mae: 0.0471 - val_accuracy: 0.9409 - val_loss: 0.0072 - val_mae: 0.0455\n",
      "Epoch 34/100\n",
      "\u001b[1m6397/6397\u001b[0m \u001b[32m━━━━━━━━━━━━━━━━━━━━\u001b[0m\u001b[37m\u001b[0m \u001b[1m133s\u001b[0m 21ms/step - accuracy: 0.9376 - loss: 0.0069 - mae: 0.0466 - val_accuracy: 0.9403 - val_loss: 0.0077 - val_mae: 0.0459\n",
      "Epoch 35/100\n",
      "\u001b[1m6397/6397\u001b[0m \u001b[32m━━━━━━━━━━━━━━━━━━━━\u001b[0m\u001b[37m\u001b[0m \u001b[1m137s\u001b[0m 21ms/step - accuracy: 0.9390 - loss: 0.0068 - mae: 0.0464 - val_accuracy: 0.9470 - val_loss: 0.0059 - val_mae: 0.0415\n",
      "Epoch 36/100\n",
      "\u001b[1m6397/6397\u001b[0m \u001b[32m━━━━━━━━━━━━━━━━━━━━\u001b[0m\u001b[37m\u001b[0m \u001b[1m134s\u001b[0m 21ms/step - accuracy: 0.9411 - loss: 0.0068 - mae: 0.0459 - val_accuracy: 0.9496 - val_loss: 0.0054 - val_mae: 0.0396\n",
      "Epoch 37/100\n",
      "\u001b[1m6397/6397\u001b[0m \u001b[32m━━━━━━━━━━━━━━━━━━━━\u001b[0m\u001b[37m\u001b[0m \u001b[1m133s\u001b[0m 21ms/step - accuracy: 0.9411 - loss: 0.0067 - mae: 0.0456 - val_accuracy: 0.9457 - val_loss: 0.0054 - val_mae: 0.0398\n",
      "Epoch 38/100\n",
      "\u001b[1m6397/6397\u001b[0m \u001b[32m━━━━━━━━━━━━━━━━━━━━\u001b[0m\u001b[37m\u001b[0m \u001b[1m134s\u001b[0m 21ms/step - accuracy: 0.9405 - loss: 0.0067 - mae: 0.0456 - val_accuracy: 0.9500 - val_loss: 0.0059 - val_mae: 0.0415\n",
      "Epoch 39/100\n",
      "\u001b[1m6397/6397\u001b[0m \u001b[32m━━━━━━━━━━━━━━━━━━━━\u001b[0m\u001b[37m\u001b[0m \u001b[1m134s\u001b[0m 21ms/step - accuracy: 0.9392 - loss: 0.0067 - mae: 0.0457 - val_accuracy: 0.9523 - val_loss: 0.0055 - val_mae: 0.0398\n",
      "Epoch 40/100\n",
      "\u001b[1m6397/6397\u001b[0m \u001b[32m━━━━━━━━━━━━━━━━━━━━\u001b[0m\u001b[37m\u001b[0m \u001b[1m135s\u001b[0m 21ms/step - accuracy: 0.9419 - loss: 0.0065 - mae: 0.0448 - val_accuracy: 0.9476 - val_loss: 0.0051 - val_mae: 0.0385\n",
      "Epoch 41/100\n",
      "\u001b[1m6397/6397\u001b[0m \u001b[32m━━━━━━━━━━━━━━━━━━━━\u001b[0m\u001b[37m\u001b[0m \u001b[1m134s\u001b[0m 21ms/step - accuracy: 0.9417 - loss: 0.0062 - mae: 0.0438 - val_accuracy: 0.9473 - val_loss: 0.0052 - val_mae: 0.0396\n",
      "Epoch 42/100\n",
      "\u001b[1m6397/6397\u001b[0m \u001b[32m━━━━━━━━━━━━━━━━━━━━\u001b[0m\u001b[37m\u001b[0m \u001b[1m133s\u001b[0m 21ms/step - accuracy: 0.9417 - loss: 0.0064 - mae: 0.0441 - val_accuracy: 0.9511 - val_loss: 0.0068 - val_mae: 0.0443\n",
      "Epoch 43/100\n",
      "\u001b[1m6397/6397\u001b[0m \u001b[32m━━━━━━━━━━━━━━━━━━━━\u001b[0m\u001b[37m\u001b[0m \u001b[1m134s\u001b[0m 21ms/step - accuracy: 0.9453 - loss: 0.0061 - mae: 0.0433 - val_accuracy: 0.9568 - val_loss: 0.0049 - val_mae: 0.0370\n",
      "Epoch 44/100\n",
      "\u001b[1m6397/6397\u001b[0m \u001b[32m━━━━━━━━━━━━━━━━━━━━\u001b[0m\u001b[37m\u001b[0m \u001b[1m134s\u001b[0m 21ms/step - accuracy: 0.9435 - loss: 0.0061 - mae: 0.0434 - val_accuracy: 0.9464 - val_loss: 0.0067 - val_mae: 0.0411\n",
      "Epoch 45/100\n",
      "\u001b[1m6397/6397\u001b[0m \u001b[32m━━━━━━━━━━━━━━━━━━━━\u001b[0m\u001b[37m\u001b[0m \u001b[1m136s\u001b[0m 21ms/step - accuracy: 0.9436 - loss: 0.0062 - mae: 0.0434 - val_accuracy: 0.9474 - val_loss: 0.0064 - val_mae: 0.0406\n",
      "Epoch 46/100\n",
      "\u001b[1m6397/6397\u001b[0m \u001b[32m━━━━━━━━━━━━━━━━━━━━\u001b[0m\u001b[37m\u001b[0m \u001b[1m145s\u001b[0m 23ms/step - accuracy: 0.9445 - loss: 0.0059 - mae: 0.0426 - val_accuracy: 0.9524 - val_loss: 0.0050 - val_mae: 0.0385\n",
      "Epoch 47/100\n",
      "\u001b[1m6397/6397\u001b[0m \u001b[32m━━━━━━━━━━━━━━━━━━━━\u001b[0m\u001b[37m\u001b[0m \u001b[1m135s\u001b[0m 21ms/step - accuracy: 0.9441 - loss: 0.0060 - mae: 0.0428 - val_accuracy: 0.9518 - val_loss: 0.0046 - val_mae: 0.0365\n",
      "Epoch 48/100\n",
      "\u001b[1m6397/6397\u001b[0m \u001b[32m━━━━━━━━━━━━━━━━━━━━\u001b[0m\u001b[37m\u001b[0m \u001b[1m136s\u001b[0m 21ms/step - accuracy: 0.9453 - loss: 0.0058 - mae: 0.0418 - val_accuracy: 0.9379 - val_loss: 0.0073 - val_mae: 0.0443\n",
      "Epoch 49/100\n",
      "\u001b[1m6397/6397\u001b[0m \u001b[32m━━━━━━━━━━━━━━━━━━━━\u001b[0m\u001b[37m\u001b[0m \u001b[1m136s\u001b[0m 21ms/step - accuracy: 0.9439 - loss: 0.0058 - mae: 0.0422 - val_accuracy: 0.9516 - val_loss: 0.0047 - val_mae: 0.0367\n",
      "Epoch 50/100\n",
      "\u001b[1m6397/6397\u001b[0m \u001b[32m━━━━━━━━━━━━━━━━━━━━\u001b[0m\u001b[37m\u001b[0m \u001b[1m136s\u001b[0m 21ms/step - accuracy: 0.9439 - loss: 0.0057 - mae: 0.0418 - val_accuracy: 0.9547 - val_loss: 0.0046 - val_mae: 0.0359\n",
      "Epoch 51/100\n",
      "\u001b[1m6397/6397\u001b[0m \u001b[32m━━━━━━━━━━━━━━━━━━━━\u001b[0m\u001b[37m\u001b[0m \u001b[1m137s\u001b[0m 21ms/step - accuracy: 0.9466 - loss: 0.0055 - mae: 0.0409 - val_accuracy: 0.9460 - val_loss: 0.0059 - val_mae: 0.0399\n",
      "Epoch 52/100\n",
      "\u001b[1m6397/6397\u001b[0m \u001b[32m━━━━━━━━━━━━━━━━━━━━\u001b[0m\u001b[37m\u001b[0m \u001b[1m138s\u001b[0m 22ms/step - accuracy: 0.9459 - loss: 0.0055 - mae: 0.0410 - val_accuracy: 0.9407 - val_loss: 0.0069 - val_mae: 0.0450\n",
      "Epoch 53/100\n",
      "\u001b[1m6397/6397\u001b[0m \u001b[32m━━━━━━━━━━━━━━━━━━━━\u001b[0m\u001b[37m\u001b[0m \u001b[1m136s\u001b[0m 21ms/step - accuracy: 0.9445 - loss: 0.0058 - mae: 0.0420 - val_accuracy: 0.9492 - val_loss: 0.0048 - val_mae: 0.0382\n",
      "Epoch 54/100\n",
      "\u001b[1m6397/6397\u001b[0m \u001b[32m━━━━━━━━━━━━━━━━━━━━\u001b[0m\u001b[37m\u001b[0m \u001b[1m139s\u001b[0m 22ms/step - accuracy: 0.9457 - loss: 0.0055 - mae: 0.0409 - val_accuracy: 0.9514 - val_loss: 0.0044 - val_mae: 0.0353\n",
      "Epoch 55/100\n",
      "\u001b[1m6397/6397\u001b[0m \u001b[32m━━━━━━━━━━━━━━━━━━━━\u001b[0m\u001b[37m\u001b[0m \u001b[1m136s\u001b[0m 21ms/step - accuracy: 0.9466 - loss: 0.0053 - mae: 0.0402 - val_accuracy: 0.9484 - val_loss: 0.0049 - val_mae: 0.0374\n",
      "Epoch 56/100\n",
      "\u001b[1m6397/6397\u001b[0m \u001b[32m━━━━━━━━━━━━━━━━━━━━\u001b[0m\u001b[37m\u001b[0m \u001b[1m138s\u001b[0m 22ms/step - accuracy: 0.9477 - loss: 0.0053 - mae: 0.0401 - val_accuracy: 0.9561 - val_loss: 0.0045 - val_mae: 0.0366\n",
      "Epoch 57/100\n",
      "\u001b[1m6397/6397\u001b[0m \u001b[32m━━━━━━━━━━━━━━━━━━━━\u001b[0m\u001b[37m\u001b[0m \u001b[1m138s\u001b[0m 22ms/step - accuracy: 0.9473 - loss: 0.0053 - mae: 0.0400 - val_accuracy: 0.9358 - val_loss: 0.0057 - val_mae: 0.0401\n",
      "Epoch 58/100\n",
      "\u001b[1m6397/6397\u001b[0m \u001b[32m━━━━━━━━━━━━━━━━━━━━\u001b[0m\u001b[37m\u001b[0m \u001b[1m139s\u001b[0m 22ms/step - accuracy: 0.9480 - loss: 0.0053 - mae: 0.0400 - val_accuracy: 0.9571 - val_loss: 0.0044 - val_mae: 0.0346\n",
      "Epoch 59/100\n",
      "\u001b[1m6397/6397\u001b[0m \u001b[32m━━━━━━━━━━━━━━━━━━━━\u001b[0m\u001b[37m\u001b[0m \u001b[1m137s\u001b[0m 21ms/step - accuracy: 0.9469 - loss: 0.0053 - mae: 0.0403 - val_accuracy: 0.9497 - val_loss: 0.0068 - val_mae: 0.0421\n",
      "Epoch 60/100\n",
      "\u001b[1m6397/6397\u001b[0m \u001b[32m━━━━━━━━━━━━━━━━━━━━\u001b[0m\u001b[37m\u001b[0m \u001b[1m137s\u001b[0m 21ms/step - accuracy: 0.9462 - loss: 0.0054 - mae: 0.0402 - val_accuracy: 0.9474 - val_loss: 0.0062 - val_mae: 0.0402\n",
      "Epoch 61/100\n",
      "\u001b[1m6397/6397\u001b[0m \u001b[32m━━━━━━━━━━━━━━━━━━━━\u001b[0m\u001b[37m\u001b[0m \u001b[1m136s\u001b[0m 21ms/step - accuracy: 0.9483 - loss: 0.0052 - mae: 0.0398 - val_accuracy: 0.9510 - val_loss: 0.0062 - val_mae: 0.0396\n",
      "Epoch 62/100\n",
      "\u001b[1m6397/6397\u001b[0m \u001b[32m━━━━━━━━━━━━━━━━━━━━\u001b[0m\u001b[37m\u001b[0m \u001b[1m142s\u001b[0m 22ms/step - accuracy: 0.9493 - loss: 0.0050 - mae: 0.0388 - val_accuracy: 0.9584 - val_loss: 0.0043 - val_mae: 0.0342\n",
      "Epoch 63/100\n",
      "\u001b[1m6397/6397\u001b[0m \u001b[32m━━━━━━━━━━━━━━━━━━━━\u001b[0m\u001b[37m\u001b[0m \u001b[1m137s\u001b[0m 21ms/step - accuracy: 0.9506 - loss: 0.0049 - mae: 0.0384 - val_accuracy: 0.9566 - val_loss: 0.0040 - val_mae: 0.0341\n",
      "Epoch 64/100\n",
      "\u001b[1m6397/6397\u001b[0m \u001b[32m━━━━━━━━━━━━━━━━━━━━\u001b[0m\u001b[37m\u001b[0m \u001b[1m137s\u001b[0m 21ms/step - accuracy: 0.9496 - loss: 0.0048 - mae: 0.0381 - val_accuracy: 0.9575 - val_loss: 0.0039 - val_mae: 0.0333\n",
      "Epoch 65/100\n",
      "\u001b[1m6397/6397\u001b[0m \u001b[32m━━━━━━━━━━━━━━━━━━━━\u001b[0m\u001b[37m\u001b[0m \u001b[1m138s\u001b[0m 22ms/step - accuracy: 0.9513 - loss: 0.0048 - mae: 0.0380 - val_accuracy: 0.9521 - val_loss: 0.0063 - val_mae: 0.0391\n",
      "Epoch 66/100\n",
      "\u001b[1m6397/6397\u001b[0m \u001b[32m━━━━━━━━━━━━━━━━━━━━\u001b[0m\u001b[37m\u001b[0m \u001b[1m138s\u001b[0m 22ms/step - accuracy: 0.9506 - loss: 0.0046 - mae: 0.0373 - val_accuracy: 0.9509 - val_loss: 0.0048 - val_mae: 0.0370\n",
      "Epoch 67/100\n",
      "\u001b[1m6397/6397\u001b[0m \u001b[32m━━━━━━━━━━━━━━━━━━━━\u001b[0m\u001b[37m\u001b[0m \u001b[1m140s\u001b[0m 22ms/step - accuracy: 0.9486 - loss: 0.0050 - mae: 0.0386 - val_accuracy: 0.9538 - val_loss: 0.0034 - val_mae: 0.0323\n",
      "Epoch 68/100\n",
      "\u001b[1m6397/6397\u001b[0m \u001b[32m━━━━━━━━━━━━━━━━━━━━\u001b[0m\u001b[37m\u001b[0m \u001b[1m138s\u001b[0m 22ms/step - accuracy: 0.9502 - loss: 0.0047 - mae: 0.0373 - val_accuracy: 0.9593 - val_loss: 0.0038 - val_mae: 0.0332\n",
      "Epoch 69/100\n",
      "\u001b[1m6397/6397\u001b[0m \u001b[32m━━━━━━━━━━━━━━━━━━━━\u001b[0m\u001b[37m\u001b[0m \u001b[1m137s\u001b[0m 21ms/step - accuracy: 0.9518 - loss: 0.0048 - mae: 0.0376 - val_accuracy: 0.9554 - val_loss: 0.0048 - val_mae: 0.0360\n",
      "Epoch 70/100\n",
      "\u001b[1m6397/6397\u001b[0m \u001b[32m━━━━━━━━━━━━━━━━━━━━\u001b[0m\u001b[37m\u001b[0m \u001b[1m137s\u001b[0m 21ms/step - accuracy: 0.9495 - loss: 0.0049 - mae: 0.0382 - val_accuracy: 0.9625 - val_loss: 0.0036 - val_mae: 0.0315\n",
      "Epoch 71/100\n",
      "\u001b[1m6397/6397\u001b[0m \u001b[32m━━━━━━━━━━━━━━━━━━━━\u001b[0m\u001b[37m\u001b[0m \u001b[1m137s\u001b[0m 21ms/step - accuracy: 0.9524 - loss: 0.0043 - mae: 0.0364 - val_accuracy: 0.9612 - val_loss: 0.0035 - val_mae: 0.0314\n",
      "Epoch 72/100\n",
      "\u001b[1m6397/6397\u001b[0m \u001b[32m━━━━━━━━━━━━━━━━━━━━\u001b[0m\u001b[37m\u001b[0m \u001b[1m138s\u001b[0m 22ms/step - accuracy: 0.9524 - loss: 0.0043 - mae: 0.0362 - val_accuracy: 0.9612 - val_loss: 0.0032 - val_mae: 0.0301\n",
      "Epoch 73/100\n",
      "\u001b[1m6397/6397\u001b[0m \u001b[32m━━━━━━━━━━━━━━━━━━━━\u001b[0m\u001b[37m\u001b[0m \u001b[1m138s\u001b[0m 22ms/step - accuracy: 0.9514 - loss: 0.0045 - mae: 0.0368 - val_accuracy: 0.9277 - val_loss: 0.0107 - val_mae: 0.0550\n",
      "Epoch 74/100\n",
      "\u001b[1m6397/6397\u001b[0m \u001b[32m━━━━━━━━━━━━━━━━━━━━\u001b[0m\u001b[37m\u001b[0m \u001b[1m139s\u001b[0m 22ms/step - accuracy: 0.9500 - loss: 0.0050 - mae: 0.0385 - val_accuracy: 0.9544 - val_loss: 0.0054 - val_mae: 0.0357\n",
      "Epoch 75/100\n",
      "\u001b[1m6397/6397\u001b[0m \u001b[32m━━━━━━━━━━━━━━━━━━━━\u001b[0m\u001b[37m\u001b[0m \u001b[1m139s\u001b[0m 22ms/step - accuracy: 0.9520 - loss: 0.0046 - mae: 0.0368 - val_accuracy: 0.9627 - val_loss: 0.0036 - val_mae: 0.0322\n",
      "Epoch 76/100\n",
      "\u001b[1m6397/6397\u001b[0m \u001b[32m━━━━━━━━━━━━━━━━━━━━\u001b[0m\u001b[37m\u001b[0m \u001b[1m138s\u001b[0m 22ms/step - accuracy: 0.9513 - loss: 0.0045 - mae: 0.0366 - val_accuracy: 0.9503 - val_loss: 0.0042 - val_mae: 0.0336\n",
      "Epoch 77/100\n",
      "\u001b[1m6397/6397\u001b[0m \u001b[32m━━━━━━━━━━━━━━━━━━━━\u001b[0m\u001b[37m\u001b[0m \u001b[1m141s\u001b[0m 22ms/step - accuracy: 0.9501 - loss: 0.0051 - mae: 0.0389 - val_accuracy: 0.9592 - val_loss: 0.0037 - val_mae: 0.0321\n",
      "Epoch 78/100\n",
      "\u001b[1m6397/6397\u001b[0m \u001b[32m━━━━━━━━━━━━━━━━━━━━\u001b[0m\u001b[37m\u001b[0m \u001b[1m140s\u001b[0m 22ms/step - accuracy: 0.9537 - loss: 0.0042 - mae: 0.0354 - val_accuracy: 0.9509 - val_loss: 0.0034 - val_mae: 0.0316\n",
      "Epoch 79/100\n",
      "\u001b[1m6397/6397\u001b[0m \u001b[32m━━━━━━━━━━━━━━━━━━━━\u001b[0m\u001b[37m\u001b[0m \u001b[1m138s\u001b[0m 22ms/step - accuracy: 0.9520 - loss: 0.0047 - mae: 0.0371 - val_accuracy: 0.9600 - val_loss: 0.0036 - val_mae: 0.0311\n",
      "Epoch 80/100\n",
      "\u001b[1m6397/6397\u001b[0m \u001b[32m━━━━━━━━━━━━━━━━━━━━\u001b[0m\u001b[37m\u001b[0m \u001b[1m139s\u001b[0m 22ms/step - accuracy: 0.9533 - loss: 0.0042 - mae: 0.0355 - val_accuracy: 0.9571 - val_loss: 0.0031 - val_mae: 0.0304\n",
      "Epoch 81/100\n",
      "\u001b[1m6397/6397\u001b[0m \u001b[32m━━━━━━━━━━━━━━━━━━━━\u001b[0m\u001b[37m\u001b[0m \u001b[1m139s\u001b[0m 22ms/step - accuracy: 0.9554 - loss: 0.0040 - mae: 0.0346 - val_accuracy: 0.9517 - val_loss: 0.0045 - val_mae: 0.0345\n",
      "Epoch 82/100\n",
      "\u001b[1m6397/6397\u001b[0m \u001b[32m━━━━━━━━━━━━━━━━━━━━\u001b[0m\u001b[37m\u001b[0m \u001b[1m142s\u001b[0m 22ms/step - accuracy: 0.9525 - loss: 0.0044 - mae: 0.0361 - val_accuracy: 0.9624 - val_loss: 0.0035 - val_mae: 0.0308\n",
      "Epoch 83/100\n",
      "\u001b[1m6397/6397\u001b[0m \u001b[32m━━━━━━━━━━━━━━━━━━━━\u001b[0m\u001b[37m\u001b[0m \u001b[1m140s\u001b[0m 22ms/step - accuracy: 0.9549 - loss: 0.0043 - mae: 0.0355 - val_accuracy: 0.9399 - val_loss: 0.0065 - val_mae: 0.0427\n",
      "Epoch 84/100\n",
      "\u001b[1m6397/6397\u001b[0m \u001b[32m━━━━━━━━━━━━━━━━━━━━\u001b[0m\u001b[37m\u001b[0m \u001b[1m142s\u001b[0m 22ms/step - accuracy: 0.9539 - loss: 0.0043 - mae: 0.0358 - val_accuracy: 0.9491 - val_loss: 0.0047 - val_mae: 0.0359\n",
      "Epoch 85/100\n",
      "\u001b[1m6397/6397\u001b[0m \u001b[32m━━━━━━━━━━━━━━━━━━━━\u001b[0m\u001b[37m\u001b[0m \u001b[1m141s\u001b[0m 22ms/step - accuracy: 0.9529 - loss: 0.0041 - mae: 0.0352 - val_accuracy: 0.9613 - val_loss: 0.0034 - val_mae: 0.0311\n",
      "Epoch 86/100\n",
      "\u001b[1m6397/6397\u001b[0m \u001b[32m━━━━━━━━━━━━━━━━━━━━\u001b[0m\u001b[37m\u001b[0m \u001b[1m148s\u001b[0m 23ms/step - accuracy: 0.9538 - loss: 0.0041 - mae: 0.0348 - val_accuracy: 0.9461 - val_loss: 0.0049 - val_mae: 0.0368\n",
      "Epoch 87/100\n",
      "\u001b[1m6397/6397\u001b[0m \u001b[32m━━━━━━━━━━━━━━━━━━━━\u001b[0m\u001b[37m\u001b[0m \u001b[1m144s\u001b[0m 23ms/step - accuracy: 0.9554 - loss: 0.0041 - mae: 0.0349 - val_accuracy: 0.9604 - val_loss: 0.0030 - val_mae: 0.0293\n",
      "Epoch 88/100\n",
      "\u001b[1m6397/6397\u001b[0m \u001b[32m━━━━━━━━━━━━━━━━━━━━\u001b[0m\u001b[37m\u001b[0m \u001b[1m148s\u001b[0m 23ms/step - accuracy: 0.9570 - loss: 0.0038 - mae: 0.0339 - val_accuracy: 0.9606 - val_loss: 0.0032 - val_mae: 0.0306\n",
      "Epoch 89/100\n",
      "\u001b[1m6397/6397\u001b[0m \u001b[32m━━━━━━━━━━━━━━━━━━━━\u001b[0m\u001b[37m\u001b[0m \u001b[1m144s\u001b[0m 23ms/step - accuracy: 0.9553 - loss: 0.0039 - mae: 0.0342 - val_accuracy: 0.9616 - val_loss: 0.0033 - val_mae: 0.0304\n",
      "Epoch 90/100\n",
      "\u001b[1m6397/6397\u001b[0m \u001b[32m━━━━━━━━━━━━━━━━━━━━\u001b[0m\u001b[37m\u001b[0m \u001b[1m148s\u001b[0m 23ms/step - accuracy: 0.9565 - loss: 0.0038 - mae: 0.0339 - val_accuracy: 0.9633 - val_loss: 0.0031 - val_mae: 0.0300\n",
      "Epoch 91/100\n",
      "\u001b[1m6397/6397\u001b[0m \u001b[32m━━━━━━━━━━━━━━━━━━━━\u001b[0m\u001b[37m\u001b[0m \u001b[1m146s\u001b[0m 23ms/step - accuracy: 0.9552 - loss: 0.0039 - mae: 0.0343 - val_accuracy: 0.9652 - val_loss: 0.0030 - val_mae: 0.0290\n",
      "Epoch 92/100\n",
      "\u001b[1m6397/6397\u001b[0m \u001b[32m━━━━━━━━━━━━━━━━━━━━\u001b[0m\u001b[37m\u001b[0m \u001b[1m160s\u001b[0m 25ms/step - accuracy: 0.9563 - loss: 0.0039 - mae: 0.0341 - val_accuracy: 0.9630 - val_loss: 0.0033 - val_mae: 0.0295\n",
      "Epoch 93/100\n",
      "\u001b[1m6397/6397\u001b[0m \u001b[32m━━━━━━━━━━━━━━━━━━━━\u001b[0m\u001b[37m\u001b[0m \u001b[1m141s\u001b[0m 22ms/step - accuracy: 0.9559 - loss: 0.0039 - mae: 0.0340 - val_accuracy: 0.9609 - val_loss: 0.0030 - val_mae: 0.0299\n",
      "Epoch 94/100\n",
      "\u001b[1m6397/6397\u001b[0m \u001b[32m━━━━━━━━━━━━━━━━━━━━\u001b[0m\u001b[37m\u001b[0m \u001b[1m149s\u001b[0m 23ms/step - accuracy: 0.9543 - loss: 0.0038 - mae: 0.0339 - val_accuracy: 0.9601 - val_loss: 0.0030 - val_mae: 0.0300\n",
      "Epoch 95/100\n",
      "\u001b[1m6397/6397\u001b[0m \u001b[32m━━━━━━━━━━━━━━━━━━━━\u001b[0m\u001b[37m\u001b[0m \u001b[1m146s\u001b[0m 23ms/step - accuracy: 0.9527 - loss: 0.0043 - mae: 0.0355 - val_accuracy: 0.9666 - val_loss: 0.0027 - val_mae: 0.0283\n",
      "Epoch 96/100\n",
      "\u001b[1m6397/6397\u001b[0m \u001b[32m━━━━━━━━━━━━━━━━━━━━\u001b[0m\u001b[37m\u001b[0m \u001b[1m151s\u001b[0m 24ms/step - accuracy: 0.9550 - loss: 0.0040 - mae: 0.0344 - val_accuracy: 0.9654 - val_loss: 0.0031 - val_mae: 0.0289\n",
      "Epoch 97/100\n",
      "\u001b[1m6397/6397\u001b[0m \u001b[32m━━━━━━━━━━━━━━━━━━━━\u001b[0m\u001b[37m\u001b[0m \u001b[1m141s\u001b[0m 22ms/step - accuracy: 0.9565 - loss: 0.0037 - mae: 0.0331 - val_accuracy: 0.9653 - val_loss: 0.0029 - val_mae: 0.0296\n",
      "Epoch 98/100\n",
      "\u001b[1m6397/6397\u001b[0m \u001b[32m━━━━━━━━━━━━━━━━━━━━\u001b[0m\u001b[37m\u001b[0m \u001b[1m155s\u001b[0m 24ms/step - accuracy: 0.9576 - loss: 0.0036 - mae: 0.0329 - val_accuracy: 0.9574 - val_loss: 0.0035 - val_mae: 0.0314\n",
      "Epoch 99/100\n",
      "\u001b[1m6397/6397\u001b[0m \u001b[32m━━━━━━━━━━━━━━━━━━━━\u001b[0m\u001b[37m\u001b[0m \u001b[1m152s\u001b[0m 24ms/step - accuracy: 0.9569 - loss: 0.0037 - mae: 0.0331 - val_accuracy: 0.9633 - val_loss: 0.0027 - val_mae: 0.0292\n",
      "Epoch 100/100\n",
      "\u001b[1m6397/6397\u001b[0m \u001b[32m━━━━━━━━━━━━━━━━━━━━\u001b[0m\u001b[37m\u001b[0m \u001b[1m156s\u001b[0m 24ms/step - accuracy: 0.9583 - loss: 0.0034 - mae: 0.0322 - val_accuracy: 0.9634 - val_loss: 0.0032 - val_mae: 0.0306\n"
     ]
    }
   ],
   "source": [
    "# Callbacks\n",
    "early_stopping = EarlyStopping(monitor=\"val_loss\", patience=10, restore_best_weights=True)\n",
    "model_checkpoint = ModelCheckpoint(\"best_rnn_model.keras\", save_best_only=True, monitor=\"val_loss\")\n",
    "\n",
    "# Train Model\n",
    "history = model.fit(\n",
    "    X_train, Y_train,\n",
    "    validation_data=(X_test, Y_test),\n",
    "    epochs=100,\n",
    "    batch_size=32,\n",
    "    callbacks=[early_stopping, model_checkpoint],\n",
    "    verbose=1\n",
    ")\n"
   ]
  },
  {
   "cell_type": "code",
   "execution_count": 11,
   "metadata": {},
   "outputs": [
    {
     "data": {
      "image/png": "[encoded data removed]",
      "text/plain": [
       "<Figure size 1200x500 with 2 Axes>"
      ]
     },
     "metadata": {},
     "output_type": "display_data"
    }
   ],
   "source": [
    "plt.figure(figsize=(12, 5))\n",
    "\n",
    "# Loss Plot\n",
    "plt.subplot(1, 2, 1)\n",
    "plt.plot(history.history['loss'], label='Train Loss')\n",
    "plt.plot(history.history['val_loss'], label='Validation Loss')\n",
    "plt.title(\"Loss over Epochs\")\n",
    "plt.xlabel(\"Epochs\")\n",
    "plt.ylabel(\"Loss (MSE)\")\n",
    "plt.legend()\n",
    "# Accuracy Plot (If accuracy is meaningful in your task)\n",
    "if 'accuracy' in history.history:\n",
    "    plt.subplot(1, 2, 2)\n",
    "    plt.plot(history.history['accuracy'], label='Train Accuracy')\n",
    "    plt.plot(history.history['val_accuracy'], label='Validation Accuracy')\n",
    "    plt.title(\"Accuracy over Epochs\")\n",
    "    plt.xlabel(\"Epochs\")\n",
    "    plt.ylabel(\"Accuracy\")\n",
    "    plt.legend()\n",
    "\n",
    "plt.show()"
   ]
  },
  {
   "cell_type": "code",
   "execution_count": 9,
   "metadata": {},
   "outputs": [
    {
     "name": "stdout",
     "output_type": "stream",
     "text": [
      "Training history saved successfully!\n"
     ]
    }
   ],
   "source": [
    "history_df = pd.DataFrame(history.history)\n",
    "\n",
    "# Save history to CSV\n",
    "history_df.to_csv(\"training_history.csv\", index=False)\n",
    "\n",
    "print(\"Training history saved successfully!\")"
   ]
  },
  {
   "cell_type": "code",
   "execution_count": null,
   "metadata": {},
   "outputs": [],
   "source": [
    "# Load Best Model\n",
    "model.load_weights(\"best_rnn_model.keras\")\n",
    "\n",
    "# Evaluate\n",
    "test_loss, test_mae = model.evaluate(X_test, Y_test)\n",
    "print(f\"Test Loss: {test_loss:.4f}, Test MAE: {test_mae:.4f}\")\n",
    "\n",
    "# Predict\n",
    "Y_pred = model.predict(X_test)\n",
    "\n",
    "# Convert Back to Original Scale\n",
    "Y_test_original = scaler_Y.inverse_transform(Y_test)\n",
    "Y_pred_original = scaler_Y.inverse_transform(Y_pred)\n",
    "\n",
    "# Display Results\n",
    "df_results = pd.DataFrame({\"Actual inSEV\": Y_test_original[:, 0], \"Predicted inSEV\": Y_pred_original[:, 0],\n",
    "                           \"Actual inO2\": Y_test_original[:, 1], \"Predicted inO2\": Y_pred_original[:, 1]})\n",
    "print(df_results.head())"
   ]
  },
  {
   "cell_type": "code",
   "execution_count": 1,
   "metadata": {},
   "outputs": [
    {
     "ename": "ModuleNotFoundError",
     "evalue": "No module named 'numpy'",
     "output_type": "error",
     "traceback": [
      "\u001b[1;31m---------------------------------------------------------------------------\u001b[0m",
      "\u001b[1;31mModuleNotFoundError\u001b[0m                       Traceback (most recent call last)",
      "Cell \u001b[1;32mIn[1], line 1\u001b[0m\n\u001b[1;32m----> 1\u001b[0m \u001b[38;5;28;01mimport\u001b[39;00m\u001b[38;5;250m \u001b[39m\u001b[38;5;21;01mnumpy\u001b[39;00m\u001b[38;5;250m \u001b[39m\u001b[38;5;28;01mas\u001b[39;00m\u001b[38;5;250m \u001b[39m\u001b[38;5;21;01mnp\u001b[39;00m\n\u001b[0;32m      2\u001b[0m \u001b[38;5;28;01mimport\u001b[39;00m\u001b[38;5;250m \u001b[39m\u001b[38;5;21;01mtensorflow\u001b[39;00m\u001b[38;5;250m \u001b[39m\u001b[38;5;28;01mas\u001b[39;00m\u001b[38;5;250m \u001b[39m\u001b[38;5;21;01mtf\u001b[39;00m\n\u001b[0;32m      3\u001b[0m \u001b[38;5;28;01mfrom\u001b[39;00m\u001b[38;5;250m \u001b[39m\u001b[38;5;21;01mtensorflow\u001b[39;00m\u001b[38;5;21;01m.\u001b[39;00m\u001b[38;5;21;01mkeras\u001b[39;00m\u001b[38;5;21;01m.\u001b[39;00m\u001b[38;5;21;01mmodels\u001b[39;00m\u001b[38;5;250m \u001b[39m\u001b[38;5;28;01mimport\u001b[39;00m load_model\n",
      "\u001b[1;31mModuleNotFoundError\u001b[0m: No module named 'numpy'"
     ]
    }
   ],
   "source": [
    "import numpy as np\n",
    "import tensorflow as tf\n",
    "from tensorflow.keras.models import load_model\n",
    "import matplotlib.pyplot as plt\n",
    "\n",
    "# Load the trained model\n",
    "model = load_model('G:/mini project/final/best_rnn_model.keras')  # Replace with your model path\n",
    "\n",
    "# Prepare input data for testing\n",
    "# Assuming your input data is a numpy array of shape (num_samples, timesteps, features)\n",
    "# Example: Generate dummy test data\n",
    "num_samples = 100\n",
    "timesteps = 50  # Same as the sequence length used during training\n",
    "features = 1    # Number of features in your time series data\n",
    "test_data = np.random.rand(num_samples, timesteps, features)  # Replace with your actual test data\n",
    "\n",
    "# Generate predictions\n",
    "predictions = model.predict(test_data)\n",
    "\n",
    "# If your model predicts the next time step, compare with ground truth\n",
    "# Example: Assuming you have ground truth data\n",
    "ground_truth = np.random.rand(num_samples, 1)  # Replace with your actual ground truth data\n",
    "\n",
    "# Evaluate predictions (e.g., calculate Mean Squared Error)\n",
    "mse = tf.keras.losses.MeanSquaredError()\n",
    "loss = mse(ground_truth, predictions).numpy()\n",
    "print(f\"Mean Squared Error: {loss}\")\n",
    "\n",
    "# Visualize predictions vs ground truth\n",
    "plt.figure(figsize=(10, 6))\n",
    "plt.plot(ground_truth, label='Ground Truth')\n",
    "plt.plot(predictions, label='Predictions')\n",
    "plt.legend()\n",
    "plt.title('Ground Truth vs Predictions')\n",
    "plt.xlabel('Time Steps')\n",
    "plt.ylabel('Value')\n",
    "plt.show()"
   ]
  }
 ],
 "metadata": {
  "kernelspec": {
   "display_name": "Python 3",
   "language": "python",
   "name": "python3"
  },
  "language_info": {
   "codemirror_mode": {
    "name": "ipython",
    "version": 3
   },
   "file_extension": ".py",
   "mimetype": "text/x-python",
   "name": "python",
   "nbconvert_exporter": "python",
   "pygments_lexer": "ipython3",
   "version": "3.12.6"
  }
 },
 "nbformat": 4,
 "nbformat_minor": 2
}
